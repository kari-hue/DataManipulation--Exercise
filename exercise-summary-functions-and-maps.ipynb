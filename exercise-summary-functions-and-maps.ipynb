{
 "cells": [
  {
   "cell_type": "markdown",
   "id": "6ce64474",
   "metadata": {
    "papermill": {
     "duration": 0.025822,
     "end_time": "2021-12-27T15:07:58.682065",
     "exception": false,
     "start_time": "2021-12-27T15:07:58.656243",
     "status": "completed"
    },
    "tags": []
   },
   "source": [
    "**This notebook is an exercise in the [Pandas](https://www.kaggle.com/learn/pandas) course.  You can reference the tutorial at [this link](https://www.kaggle.com/residentmario/summary-functions-and-maps).**\n",
    "\n",
    "---\n"
   ]
  },
  {
   "cell_type": "markdown",
   "id": "6aeb284c",
   "metadata": {
    "papermill": {
     "duration": 0.024911,
     "end_time": "2021-12-27T15:07:58.731506",
     "exception": false,
     "start_time": "2021-12-27T15:07:58.706595",
     "status": "completed"
    },
    "tags": []
   },
   "source": [
    "# Introduction\n",
    "\n",
    "Now you are ready to get a deeper understanding of your data.\n",
    "\n",
    "Run the following cell to load your data and some utility functions (including code to check your answers)."
   ]
  },
  {
   "cell_type": "code",
   "execution_count": 1,
   "id": "109184c4",
   "metadata": {
    "execution": {
     "iopub.execute_input": "2021-12-27T15:07:58.784069Z",
     "iopub.status.busy": "2021-12-27T15:07:58.782891Z",
     "iopub.status.idle": "2021-12-27T15:08:06.761039Z",
     "shell.execute_reply": "2021-12-27T15:08:06.760389Z",
     "shell.execute_reply.started": "2021-12-27T14:56:38.035066Z"
    },
    "papermill": {
     "duration": 8.005551,
     "end_time": "2021-12-27T15:08:06.761203",
     "exception": false,
     "start_time": "2021-12-27T15:07:58.755652",
     "status": "completed"
    },
    "tags": []
   },
   "outputs": [
    {
     "name": "stdout",
     "output_type": "stream",
     "text": [
      "Setup complete.\n"
     ]
    },
    {
     "data": {
      "text/html": [
       "<div>\n",
       "<style scoped>\n",
       "    .dataframe tbody tr th:only-of-type {\n",
       "        vertical-align: middle;\n",
       "    }\n",
       "\n",
       "    .dataframe tbody tr th {\n",
       "        vertical-align: top;\n",
       "    }\n",
       "\n",
       "    .dataframe thead th {\n",
       "        text-align: right;\n",
       "    }\n",
       "</style>\n",
       "<table border=\"1\" class=\"dataframe\">\n",
       "  <thead>\n",
       "    <tr style=\"text-align: right;\">\n",
       "      <th></th>\n",
       "      <th>country</th>\n",
       "      <th>description</th>\n",
       "      <th>designation</th>\n",
       "      <th>points</th>\n",
       "      <th>price</th>\n",
       "      <th>province</th>\n",
       "      <th>region_1</th>\n",
       "      <th>region_2</th>\n",
       "      <th>taster_name</th>\n",
       "      <th>taster_twitter_handle</th>\n",
       "      <th>title</th>\n",
       "      <th>variety</th>\n",
       "      <th>winery</th>\n",
       "    </tr>\n",
       "  </thead>\n",
       "  <tbody>\n",
       "    <tr>\n",
       "      <th>0</th>\n",
       "      <td>Italy</td>\n",
       "      <td>Aromas include tropical fruit, broom, brimston...</td>\n",
       "      <td>Vulkà Bianco</td>\n",
       "      <td>87</td>\n",
       "      <td>NaN</td>\n",
       "      <td>Sicily &amp; Sardinia</td>\n",
       "      <td>Etna</td>\n",
       "      <td>NaN</td>\n",
       "      <td>Kerin O’Keefe</td>\n",
       "      <td>@kerinokeefe</td>\n",
       "      <td>Nicosia 2013 Vulkà Bianco  (Etna)</td>\n",
       "      <td>White Blend</td>\n",
       "      <td>Nicosia</td>\n",
       "    </tr>\n",
       "    <tr>\n",
       "      <th>1</th>\n",
       "      <td>Portugal</td>\n",
       "      <td>This is ripe and fruity, a wine that is smooth...</td>\n",
       "      <td>Avidagos</td>\n",
       "      <td>87</td>\n",
       "      <td>15.0</td>\n",
       "      <td>Douro</td>\n",
       "      <td>NaN</td>\n",
       "      <td>NaN</td>\n",
       "      <td>Roger Voss</td>\n",
       "      <td>@vossroger</td>\n",
       "      <td>Quinta dos Avidagos 2011 Avidagos Red (Douro)</td>\n",
       "      <td>Portuguese Red</td>\n",
       "      <td>Quinta dos Avidagos</td>\n",
       "    </tr>\n",
       "    <tr>\n",
       "      <th>2</th>\n",
       "      <td>US</td>\n",
       "      <td>Tart and snappy, the flavors of lime flesh and...</td>\n",
       "      <td>NaN</td>\n",
       "      <td>87</td>\n",
       "      <td>14.0</td>\n",
       "      <td>Oregon</td>\n",
       "      <td>Willamette Valley</td>\n",
       "      <td>Willamette Valley</td>\n",
       "      <td>Paul Gregutt</td>\n",
       "      <td>@paulgwine</td>\n",
       "      <td>Rainstorm 2013 Pinot Gris (Willamette Valley)</td>\n",
       "      <td>Pinot Gris</td>\n",
       "      <td>Rainstorm</td>\n",
       "    </tr>\n",
       "    <tr>\n",
       "      <th>3</th>\n",
       "      <td>US</td>\n",
       "      <td>Pineapple rind, lemon pith and orange blossom ...</td>\n",
       "      <td>Reserve Late Harvest</td>\n",
       "      <td>87</td>\n",
       "      <td>13.0</td>\n",
       "      <td>Michigan</td>\n",
       "      <td>Lake Michigan Shore</td>\n",
       "      <td>NaN</td>\n",
       "      <td>Alexander Peartree</td>\n",
       "      <td>NaN</td>\n",
       "      <td>St. Julian 2013 Reserve Late Harvest Riesling ...</td>\n",
       "      <td>Riesling</td>\n",
       "      <td>St. Julian</td>\n",
       "    </tr>\n",
       "    <tr>\n",
       "      <th>4</th>\n",
       "      <td>US</td>\n",
       "      <td>Much like the regular bottling from 2012, this...</td>\n",
       "      <td>Vintner's Reserve Wild Child Block</td>\n",
       "      <td>87</td>\n",
       "      <td>65.0</td>\n",
       "      <td>Oregon</td>\n",
       "      <td>Willamette Valley</td>\n",
       "      <td>Willamette Valley</td>\n",
       "      <td>Paul Gregutt</td>\n",
       "      <td>@paulgwine</td>\n",
       "      <td>Sweet Cheeks 2012 Vintner's Reserve Wild Child...</td>\n",
       "      <td>Pinot Noir</td>\n",
       "      <td>Sweet Cheeks</td>\n",
       "    </tr>\n",
       "  </tbody>\n",
       "</table>\n",
       "</div>"
      ],
      "text/plain": [
       "    country                                        description  \\\n",
       "0     Italy  Aromas include tropical fruit, broom, brimston...   \n",
       "1  Portugal  This is ripe and fruity, a wine that is smooth...   \n",
       "2        US  Tart and snappy, the flavors of lime flesh and...   \n",
       "3        US  Pineapple rind, lemon pith and orange blossom ...   \n",
       "4        US  Much like the regular bottling from 2012, this...   \n",
       "\n",
       "                          designation  points  price           province  \\\n",
       "0                        Vulkà Bianco      87    NaN  Sicily & Sardinia   \n",
       "1                            Avidagos      87   15.0              Douro   \n",
       "2                                 NaN      87   14.0             Oregon   \n",
       "3                Reserve Late Harvest      87   13.0           Michigan   \n",
       "4  Vintner's Reserve Wild Child Block      87   65.0             Oregon   \n",
       "\n",
       "              region_1           region_2         taster_name  \\\n",
       "0                 Etna                NaN       Kerin O’Keefe   \n",
       "1                  NaN                NaN          Roger Voss   \n",
       "2    Willamette Valley  Willamette Valley        Paul Gregutt   \n",
       "3  Lake Michigan Shore                NaN  Alexander Peartree   \n",
       "4    Willamette Valley  Willamette Valley        Paul Gregutt   \n",
       "\n",
       "  taster_twitter_handle                                              title  \\\n",
       "0          @kerinokeefe                  Nicosia 2013 Vulkà Bianco  (Etna)   \n",
       "1            @vossroger      Quinta dos Avidagos 2011 Avidagos Red (Douro)   \n",
       "2           @paulgwine       Rainstorm 2013 Pinot Gris (Willamette Valley)   \n",
       "3                   NaN  St. Julian 2013 Reserve Late Harvest Riesling ...   \n",
       "4           @paulgwine   Sweet Cheeks 2012 Vintner's Reserve Wild Child...   \n",
       "\n",
       "          variety               winery  \n",
       "0     White Blend              Nicosia  \n",
       "1  Portuguese Red  Quinta dos Avidagos  \n",
       "2      Pinot Gris            Rainstorm  \n",
       "3        Riesling           St. Julian  \n",
       "4      Pinot Noir         Sweet Cheeks  "
      ]
     },
     "execution_count": 1,
     "metadata": {},
     "output_type": "execute_result"
    }
   ],
   "source": [
    "import pandas as pd\n",
    "pd.set_option(\"display.max_rows\", 5)\n",
    "reviews = pd.read_csv(\"../input/wine-reviews/winemag-data-130k-v2.csv\", index_col=0)\n",
    "\n",
    "from learntools.core import binder; binder.bind(globals())\n",
    "from learntools.pandas.summary_functions_and_maps import *\n",
    "print(\"Setup complete.\")\n",
    "\n",
    "reviews.head()"
   ]
  },
  {
   "cell_type": "markdown",
   "id": "0eda08d5",
   "metadata": {
    "papermill": {
     "duration": 0.024714,
     "end_time": "2021-12-27T15:08:06.811975",
     "exception": false,
     "start_time": "2021-12-27T15:08:06.787261",
     "status": "completed"
    },
    "tags": []
   },
   "source": [
    "# Exercises"
   ]
  },
  {
   "cell_type": "markdown",
   "id": "3f2ed425",
   "metadata": {
    "papermill": {
     "duration": 0.024631,
     "end_time": "2021-12-27T15:08:06.861451",
     "exception": false,
     "start_time": "2021-12-27T15:08:06.836820",
     "status": "completed"
    },
    "tags": []
   },
   "source": [
    "## 1.\n",
    "\n",
    "What is the median of the `points` column in the `reviews` DataFrame?"
   ]
  },
  {
   "cell_type": "code",
   "execution_count": 2,
   "id": "66572b18",
   "metadata": {
    "execution": {
     "iopub.execute_input": "2021-12-27T15:08:06.914910Z",
     "iopub.status.busy": "2021-12-27T15:08:06.914271Z",
     "iopub.status.idle": "2021-12-27T15:08:06.921628Z",
     "shell.execute_reply": "2021-12-27T15:08:06.922155Z",
     "shell.execute_reply.started": "2021-12-27T14:56:58.228607Z"
    },
    "papermill": {
     "duration": 0.035792,
     "end_time": "2021-12-27T15:08:06.922318",
     "exception": false,
     "start_time": "2021-12-27T15:08:06.886526",
     "status": "completed"
    },
    "tags": []
   },
   "outputs": [
    {
     "data": {
      "application/javascript": [
       "parent.postMessage({\"jupyterEvent\": \"custom.exercise_interaction\", \"data\": {\"outcomeType\": 1, \"valueTowardsCompletion\": 0.14285714285714285, \"interactionType\": 1, \"questionType\": 1, \"questionId\": \"1_MedianPoints\", \"learnToolsVersion\": \"0.3.4\", \"failureMessage\": \"\", \"exceptionClass\": \"\", \"trace\": \"\"}}, \"*\")"
      ],
      "text/plain": [
       "<IPython.core.display.Javascript object>"
      ]
     },
     "metadata": {},
     "output_type": "display_data"
    },
    {
     "data": {
      "text/markdown": [
       "<span style=\"color:#33cc33\">Correct</span>"
      ],
      "text/plain": [
       "Correct"
      ]
     },
     "metadata": {},
     "output_type": "display_data"
    }
   ],
   "source": [
    "median_points = reviews['points'].median()\n",
    "median_points\n",
    "\n",
    "# Check your answer\n",
    "q1.check()"
   ]
  },
  {
   "cell_type": "code",
   "execution_count": 3,
   "id": "45263ab3",
   "metadata": {
    "execution": {
     "iopub.execute_input": "2021-12-27T15:08:06.978184Z",
     "iopub.status.busy": "2021-12-27T15:08:06.977496Z",
     "iopub.status.idle": "2021-12-27T15:08:06.984512Z",
     "shell.execute_reply": "2021-12-27T15:08:06.984998Z",
     "shell.execute_reply.started": "2021-12-27T14:57:00.389689Z"
    },
    "papermill": {
     "duration": 0.036741,
     "end_time": "2021-12-27T15:08:06.985162",
     "exception": false,
     "start_time": "2021-12-27T15:08:06.948421",
     "status": "completed"
    },
    "tags": []
   },
   "outputs": [
    {
     "data": {
      "text/plain": [
       "88.0"
      ]
     },
     "execution_count": 3,
     "metadata": {},
     "output_type": "execute_result"
    }
   ],
   "source": [
    "median_points"
   ]
  },
  {
   "cell_type": "markdown",
   "id": "7c9960d8",
   "metadata": {
    "papermill": {
     "duration": 0.026209,
     "end_time": "2021-12-27T15:08:07.037863",
     "exception": false,
     "start_time": "2021-12-27T15:08:07.011654",
     "status": "completed"
    },
    "tags": []
   },
   "source": [
    "Hence, the median of the \"points\" column in the reviews DataFrame is 88.0."
   ]
  },
  {
   "cell_type": "code",
   "execution_count": 4,
   "id": "5cf40e02",
   "metadata": {
    "execution": {
     "iopub.execute_input": "2021-12-27T15:08:07.093730Z",
     "iopub.status.busy": "2021-12-27T15:08:07.093137Z",
     "iopub.status.idle": "2021-12-27T15:08:07.095878Z",
     "shell.execute_reply": "2021-12-27T15:08:07.096433Z"
    },
    "papermill": {
     "duration": 0.032337,
     "end_time": "2021-12-27T15:08:07.096584",
     "exception": false,
     "start_time": "2021-12-27T15:08:07.064247",
     "status": "completed"
    },
    "tags": []
   },
   "outputs": [],
   "source": [
    "#q1.hint()\n",
    "#q1.solution()"
   ]
  },
  {
   "cell_type": "markdown",
   "id": "4f4529e9",
   "metadata": {
    "papermill": {
     "duration": 0.026757,
     "end_time": "2021-12-27T15:08:07.149885",
     "exception": false,
     "start_time": "2021-12-27T15:08:07.123128",
     "status": "completed"
    },
    "tags": []
   },
   "source": [
    "## 2. \n",
    "What countries are represented in the dataset? (Your answer should not include any duplicates.)"
   ]
  },
  {
   "cell_type": "code",
   "execution_count": 5,
   "id": "c5c8d4c7",
   "metadata": {
    "execution": {
     "iopub.execute_input": "2021-12-27T15:08:07.205794Z",
     "iopub.status.busy": "2021-12-27T15:08:07.205179Z",
     "iopub.status.idle": "2021-12-27T15:08:07.225625Z",
     "shell.execute_reply": "2021-12-27T15:08:07.226148Z",
     "shell.execute_reply.started": "2021-12-27T14:57:08.957921Z"
    },
    "papermill": {
     "duration": 0.049986,
     "end_time": "2021-12-27T15:08:07.226337",
     "exception": false,
     "start_time": "2021-12-27T15:08:07.176351",
     "status": "completed"
    },
    "tags": []
   },
   "outputs": [
    {
     "data": {
      "application/javascript": [
       "parent.postMessage({\"jupyterEvent\": \"custom.exercise_interaction\", \"data\": {\"outcomeType\": 1, \"valueTowardsCompletion\": 0.14285714285714285, \"interactionType\": 1, \"questionType\": 2, \"questionId\": \"2_UniqueCountries\", \"learnToolsVersion\": \"0.3.4\", \"failureMessage\": \"\", \"exceptionClass\": \"\", \"trace\": \"\"}}, \"*\")"
      ],
      "text/plain": [
       "<IPython.core.display.Javascript object>"
      ]
     },
     "metadata": {},
     "output_type": "display_data"
    },
    {
     "data": {
      "text/markdown": [
       "<span style=\"color:#33cc33\">Correct</span>"
      ],
      "text/plain": [
       "Correct"
      ]
     },
     "metadata": {},
     "output_type": "display_data"
    }
   ],
   "source": [
    "countries = reviews['country'].unique()\n",
    "countries\n",
    "\n",
    "# Check your answer\n",
    "q2.check()"
   ]
  },
  {
   "cell_type": "code",
   "execution_count": 6,
   "id": "44cb3c14",
   "metadata": {
    "execution": {
     "iopub.execute_input": "2021-12-27T15:08:07.291572Z",
     "iopub.status.busy": "2021-12-27T15:08:07.290883Z",
     "iopub.status.idle": "2021-12-27T15:08:07.295326Z",
     "shell.execute_reply": "2021-12-27T15:08:07.295802Z",
     "shell.execute_reply.started": "2021-12-27T14:57:17.087711Z"
    },
    "papermill": {
     "duration": 0.037734,
     "end_time": "2021-12-27T15:08:07.295989",
     "exception": false,
     "start_time": "2021-12-27T15:08:07.258255",
     "status": "completed"
    },
    "tags": []
   },
   "outputs": [
    {
     "data": {
      "text/plain": [
       "array(['Italy', 'Portugal', 'US', 'Spain', 'France', 'Germany',\n",
       "       'Argentina', 'Chile', 'Australia', 'Austria', 'South Africa',\n",
       "       'New Zealand', 'Israel', 'Hungary', 'Greece', 'Romania', 'Mexico',\n",
       "       'Canada', nan, 'Turkey', 'Czech Republic', 'Slovenia',\n",
       "       'Luxembourg', 'Croatia', 'Georgia', 'Uruguay', 'England',\n",
       "       'Lebanon', 'Serbia', 'Brazil', 'Moldova', 'Morocco', 'Peru',\n",
       "       'India', 'Bulgaria', 'Cyprus', 'Armenia', 'Switzerland',\n",
       "       'Bosnia and Herzegovina', 'Ukraine', 'Slovakia', 'Macedonia',\n",
       "       'China', 'Egypt'], dtype=object)"
      ]
     },
     "execution_count": 6,
     "metadata": {},
     "output_type": "execute_result"
    }
   ],
   "source": [
    "# Printing the unique countries in the dataset\n",
    "\n",
    "len(countries)\n",
    "\n",
    "countries"
   ]
  },
  {
   "cell_type": "markdown",
   "id": "f8fa08a7",
   "metadata": {
    "papermill": {
     "duration": 0.02736,
     "end_time": "2021-12-27T15:08:07.351419",
     "exception": false,
     "start_time": "2021-12-27T15:08:07.324059",
     "status": "completed"
    },
    "tags": []
   },
   "source": [
    "<b>Answer: </b> We have altogether 44 unique countries and they are as follows:\n",
    "\n",
    "['Italy', 'Portugal', 'US', 'Spain', 'France', 'Germany',\n",
    "       'Argentina', 'Chile', 'Australia', 'Austria', 'South Africa',\n",
    "       'New Zealand', 'Israel', 'Hungary', 'Greece', 'Romania', 'Mexico',\n",
    "       'Canada', nan, 'Turkey', 'Czech Republic', 'Slovenia',\n",
    "       'Luxembourg', 'Croatia', 'Georgia', 'Uruguay', 'England',\n",
    "       'Lebanon', 'Serbia', 'Brazil', 'Moldova', 'Morocco', 'Peru',\n",
    "       'India', 'Bulgaria', 'Cyprus', 'Armenia', 'Switzerland',\n",
    "       'Bosnia and Herzegovina', 'Ukraine', 'Slovakia', 'Macedonia',\n",
    "       'China', 'Egypt']\n",
    "\n"
   ]
  },
  {
   "cell_type": "code",
   "execution_count": 7,
   "id": "f1b84e04",
   "metadata": {
    "execution": {
     "iopub.execute_input": "2021-12-27T15:08:07.409976Z",
     "iopub.status.busy": "2021-12-27T15:08:07.409306Z",
     "iopub.status.idle": "2021-12-27T15:08:07.412721Z",
     "shell.execute_reply": "2021-12-27T15:08:07.412177Z"
    },
    "papermill": {
     "duration": 0.033592,
     "end_time": "2021-12-27T15:08:07.412883",
     "exception": false,
     "start_time": "2021-12-27T15:08:07.379291",
     "status": "completed"
    },
    "tags": []
   },
   "outputs": [],
   "source": [
    "#q2.hint()\n",
    "#q2.solution()"
   ]
  },
  {
   "cell_type": "markdown",
   "id": "9ef50574",
   "metadata": {
    "papermill": {
     "duration": 0.028212,
     "end_time": "2021-12-27T15:08:07.469777",
     "exception": false,
     "start_time": "2021-12-27T15:08:07.441565",
     "status": "completed"
    },
    "tags": []
   },
   "source": [
    "## 3.\n",
    "How often does each country appear in the dataset? Create a Series `reviews_per_country` mapping countries to the count of reviews of wines from that country."
   ]
  },
  {
   "cell_type": "code",
   "execution_count": 8,
   "id": "3576bcbf",
   "metadata": {
    "execution": {
     "iopub.execute_input": "2021-12-27T15:08:07.528880Z",
     "iopub.status.busy": "2021-12-27T15:08:07.528271Z",
     "iopub.status.idle": "2021-12-27T15:08:07.553600Z",
     "shell.execute_reply": "2021-12-27T15:08:07.554214Z",
     "shell.execute_reply.started": "2021-12-27T14:57:23.696557Z"
    },
    "papermill": {
     "duration": 0.056406,
     "end_time": "2021-12-27T15:08:07.554380",
     "exception": false,
     "start_time": "2021-12-27T15:08:07.497974",
     "status": "completed"
    },
    "tags": []
   },
   "outputs": [
    {
     "data": {
      "application/javascript": [
       "parent.postMessage({\"jupyterEvent\": \"custom.exercise_interaction\", \"data\": {\"outcomeType\": 1, \"valueTowardsCompletion\": 0.14285714285714285, \"interactionType\": 1, \"questionType\": 1, \"questionId\": \"3_ReviewsPerCountry\", \"learnToolsVersion\": \"0.3.4\", \"failureMessage\": \"\", \"exceptionClass\": \"\", \"trace\": \"\"}}, \"*\")"
      ],
      "text/plain": [
       "<IPython.core.display.Javascript object>"
      ]
     },
     "metadata": {},
     "output_type": "display_data"
    },
    {
     "data": {
      "text/markdown": [
       "<span style=\"color:#33cc33\">Correct</span>"
      ],
      "text/plain": [
       "Correct"
      ]
     },
     "metadata": {},
     "output_type": "display_data"
    }
   ],
   "source": [
    "reviews_per_country = reviews['country'].value_counts()\n",
    "\n",
    "# Check your answer\n",
    "q3.check()"
   ]
  },
  {
   "cell_type": "code",
   "execution_count": 9,
   "id": "8c2d44e0",
   "metadata": {
    "execution": {
     "iopub.execute_input": "2021-12-27T15:08:07.615703Z",
     "iopub.status.busy": "2021-12-27T15:08:07.615124Z",
     "iopub.status.idle": "2021-12-27T15:08:07.619194Z",
     "shell.execute_reply": "2021-12-27T15:08:07.619631Z",
     "shell.execute_reply.started": "2021-12-27T14:57:29.456328Z"
    },
    "papermill": {
     "duration": 0.035959,
     "end_time": "2021-12-27T15:08:07.619786",
     "exception": false,
     "start_time": "2021-12-27T15:08:07.583827",
     "status": "completed"
    },
    "tags": []
   },
   "outputs": [
    {
     "data": {
      "text/plain": [
       "43"
      ]
     },
     "execution_count": 9,
     "metadata": {},
     "output_type": "execute_result"
    }
   ],
   "source": [
    "# printing the result\n",
    "\n",
    "len(reviews_per_country)"
   ]
  },
  {
   "cell_type": "code",
   "execution_count": 10,
   "id": "2b75a85d",
   "metadata": {
    "execution": {
     "iopub.execute_input": "2021-12-27T15:08:07.681867Z",
     "iopub.status.busy": "2021-12-27T15:08:07.681217Z",
     "iopub.status.idle": "2021-12-27T15:08:07.687331Z",
     "shell.execute_reply": "2021-12-27T15:08:07.687812Z",
     "shell.execute_reply.started": "2021-12-27T14:57:31.894621Z"
    },
    "papermill": {
     "duration": 0.038929,
     "end_time": "2021-12-27T15:08:07.688019",
     "exception": false,
     "start_time": "2021-12-27T15:08:07.649090",
     "status": "completed"
    },
    "tags": []
   },
   "outputs": [
    {
     "data": {
      "text/plain": [
       "US        54504\n",
       "France    22093\n",
       "          ...  \n",
       "China         1\n",
       "Egypt         1\n",
       "Name: country, Length: 43, dtype: int64"
      ]
     },
     "execution_count": 10,
     "metadata": {},
     "output_type": "execute_result"
    }
   ],
   "source": [
    "reviews_per_country"
   ]
  },
  {
   "cell_type": "code",
   "execution_count": 11,
   "id": "a934eeac",
   "metadata": {
    "execution": {
     "iopub.execute_input": "2021-12-27T15:08:07.751022Z",
     "iopub.status.busy": "2021-12-27T15:08:07.750378Z",
     "iopub.status.idle": "2021-12-27T15:08:07.752871Z",
     "shell.execute_reply": "2021-12-27T15:08:07.753399Z"
    },
    "papermill": {
     "duration": 0.035547,
     "end_time": "2021-12-27T15:08:07.753562",
     "exception": false,
     "start_time": "2021-12-27T15:08:07.718015",
     "status": "completed"
    },
    "tags": []
   },
   "outputs": [],
   "source": [
    "#q3.hint()\n",
    "#q3.solution()"
   ]
  },
  {
   "cell_type": "markdown",
   "id": "c05e73dc",
   "metadata": {
    "papermill": {
     "duration": 0.030043,
     "end_time": "2021-12-27T15:08:07.813648",
     "exception": false,
     "start_time": "2021-12-27T15:08:07.783605",
     "status": "completed"
    },
    "tags": []
   },
   "source": [
    "## 4.\n",
    "Create variable `centered_price` containing a version of the `price` column with the mean price subtracted.\n",
    "\n",
    "(Note: this 'centering' transformation is a common preprocessing step before applying various machine learning algorithms.) "
   ]
  },
  {
   "cell_type": "code",
   "execution_count": 12,
   "id": "6d2affc0",
   "metadata": {
    "execution": {
     "iopub.execute_input": "2021-12-27T15:08:07.876888Z",
     "iopub.status.busy": "2021-12-27T15:08:07.876196Z",
     "iopub.status.idle": "2021-12-27T15:08:46.458886Z",
     "shell.execute_reply": "2021-12-27T15:08:46.458351Z",
     "shell.execute_reply.started": "2021-12-27T14:57:36.680581Z"
    },
    "papermill": {
     "duration": 38.61525,
     "end_time": "2021-12-27T15:08:46.459018",
     "exception": false,
     "start_time": "2021-12-27T15:08:07.843768",
     "status": "completed"
    },
    "tags": []
   },
   "outputs": [
    {
     "data": {
      "application/javascript": [
       "parent.postMessage({\"jupyterEvent\": \"custom.exercise_interaction\", \"data\": {\"outcomeType\": 1, \"valueTowardsCompletion\": 0.14285714285714285, \"interactionType\": 1, \"questionType\": 1, \"questionId\": \"4_CenteredPrice\", \"learnToolsVersion\": \"0.3.4\", \"failureMessage\": \"\", \"exceptionClass\": \"\", \"trace\": \"\"}}, \"*\")"
      ],
      "text/plain": [
       "<IPython.core.display.Javascript object>"
      ]
     },
     "metadata": {},
     "output_type": "display_data"
    },
    {
     "data": {
      "text/markdown": [
       "<span style=\"color:#33cc33\">Correct</span>"
      ],
      "text/plain": [
       "Correct"
      ]
     },
     "metadata": {},
     "output_type": "display_data"
    }
   ],
   "source": [
    "centered_price = reviews.price.map(lambda pri: pri - reviews.price.mean())\n",
    "\n",
    "# Check your answer\n",
    "q4.check()"
   ]
  },
  {
   "cell_type": "code",
   "execution_count": 13,
   "id": "cb458c70",
   "metadata": {
    "execution": {
     "iopub.execute_input": "2021-12-27T15:08:46.524127Z",
     "iopub.status.busy": "2021-12-27T15:08:46.523453Z",
     "iopub.status.idle": "2021-12-27T15:08:46.525280Z",
     "shell.execute_reply": "2021-12-27T15:08:46.525758Z"
    },
    "papermill": {
     "duration": 0.036611,
     "end_time": "2021-12-27T15:08:46.525931",
     "exception": false,
     "start_time": "2021-12-27T15:08:46.489320",
     "status": "completed"
    },
    "tags": []
   },
   "outputs": [],
   "source": [
    "#q4.hint()\n",
    "#q4.solution()"
   ]
  },
  {
   "cell_type": "markdown",
   "id": "54b4beb8",
   "metadata": {
    "papermill": {
     "duration": 0.030591,
     "end_time": "2021-12-27T15:08:46.586962",
     "exception": false,
     "start_time": "2021-12-27T15:08:46.556371",
     "status": "completed"
    },
    "tags": []
   },
   "source": [
    "## 5.\n",
    "I'm an economical wine buyer. Which wine is the \"best bargain\"? Create a variable `bargain_wine` with the title of the wine with the highest points-to-price ratio in the dataset."
   ]
  },
  {
   "cell_type": "code",
   "execution_count": 14,
   "id": "85a079ca",
   "metadata": {
    "execution": {
     "iopub.execute_input": "2021-12-27T15:08:46.651786Z",
     "iopub.status.busy": "2021-12-27T15:08:46.651127Z",
     "iopub.status.idle": "2021-12-27T15:08:46.656630Z",
     "shell.execute_reply": "2021-12-27T15:08:46.657166Z",
     "shell.execute_reply.started": "2021-12-27T14:58:13.868553Z"
    },
    "papermill": {
     "duration": 0.03926,
     "end_time": "2021-12-27T15:08:46.657334",
     "exception": false,
     "start_time": "2021-12-27T15:08:46.618074",
     "status": "completed"
    },
    "tags": []
   },
   "outputs": [],
   "source": [
    "# First finding the points to price ratio and creating a new column\n",
    "\n",
    "reviews['points_to_price'] = reviews['points']/reviews['price']\n",
    "\n",
    "# Finding the maximum price using idmax\n",
    "\n",
    "max_point = reviews['points_to_price'].idxmax()\n"
   ]
  },
  {
   "cell_type": "code",
   "execution_count": 15,
   "id": "7bc9ebba",
   "metadata": {
    "execution": {
     "iopub.execute_input": "2021-12-27T15:08:46.722679Z",
     "iopub.status.busy": "2021-12-27T15:08:46.722077Z",
     "iopub.status.idle": "2021-12-27T15:08:46.727449Z",
     "shell.execute_reply": "2021-12-27T15:08:46.727907Z",
     "shell.execute_reply.started": "2021-12-27T14:58:25.402939Z"
    },
    "papermill": {
     "duration": 0.03942,
     "end_time": "2021-12-27T15:08:46.728070",
     "exception": false,
     "start_time": "2021-12-27T15:08:46.688650",
     "status": "completed"
    },
    "tags": []
   },
   "outputs": [
    {
     "data": {
      "text/plain": [
       "0         NaN\n",
       "1    5.800000\n",
       "2    6.214286\n",
       "3    6.692308\n",
       "4    1.338462\n",
       "Name: points_to_price, dtype: float64"
      ]
     },
     "execution_count": 15,
     "metadata": {},
     "output_type": "execute_result"
    }
   ],
   "source": [
    "reviews['points_to_price'].head()"
   ]
  },
  {
   "cell_type": "code",
   "execution_count": 16,
   "id": "374d85bd",
   "metadata": {
    "execution": {
     "iopub.execute_input": "2021-12-27T15:08:46.793755Z",
     "iopub.status.busy": "2021-12-27T15:08:46.793106Z",
     "iopub.status.idle": "2021-12-27T15:08:46.801846Z",
     "shell.execute_reply": "2021-12-27T15:08:46.802347Z",
     "shell.execute_reply.started": "2021-12-27T14:58:32.050494Z"
    },
    "papermill": {
     "duration": 0.043289,
     "end_time": "2021-12-27T15:08:46.802521",
     "exception": false,
     "start_time": "2021-12-27T15:08:46.759232",
     "status": "completed"
    },
    "tags": []
   },
   "outputs": [
    {
     "data": {
      "application/javascript": [
       "parent.postMessage({\"jupyterEvent\": \"custom.exercise_interaction\", \"data\": {\"outcomeType\": 1, \"valueTowardsCompletion\": 0.14285714285714285, \"interactionType\": 1, \"questionType\": 2, \"questionId\": \"5_BargainWine\", \"learnToolsVersion\": \"0.3.4\", \"failureMessage\": \"\", \"exceptionClass\": \"\", \"trace\": \"\"}}, \"*\")"
      ],
      "text/plain": [
       "<IPython.core.display.Javascript object>"
      ]
     },
     "metadata": {},
     "output_type": "display_data"
    },
    {
     "data": {
      "text/markdown": [
       "<span style=\"color:#33cc33\">Correct</span>"
      ],
      "text/plain": [
       "Correct"
      ]
     },
     "metadata": {},
     "output_type": "display_data"
    }
   ],
   "source": [
    "bargain_wine = reviews.loc[max_point,'title']\n",
    "\n",
    "# Check your answer\n",
    "q5.check()"
   ]
  },
  {
   "cell_type": "code",
   "execution_count": 17,
   "id": "e03629d6",
   "metadata": {
    "execution": {
     "iopub.execute_input": "2021-12-27T15:08:46.870745Z",
     "iopub.status.busy": "2021-12-27T15:08:46.870149Z",
     "iopub.status.idle": "2021-12-27T15:08:46.872645Z",
     "shell.execute_reply": "2021-12-27T15:08:46.873111Z",
     "shell.execute_reply.started": "2021-12-27T07:15:55.455497Z"
    },
    "papermill": {
     "duration": 0.037808,
     "end_time": "2021-12-27T15:08:46.873272",
     "exception": false,
     "start_time": "2021-12-27T15:08:46.835464",
     "status": "completed"
    },
    "tags": []
   },
   "outputs": [],
   "source": [
    "#q5.hint()\n",
    "#q5.solution()"
   ]
  },
  {
   "cell_type": "markdown",
   "id": "72ee8be5",
   "metadata": {
    "papermill": {
     "duration": 0.031858,
     "end_time": "2021-12-27T15:08:46.937692",
     "exception": false,
     "start_time": "2021-12-27T15:08:46.905834",
     "status": "completed"
    },
    "tags": []
   },
   "source": [
    "## 6.\n",
    "There are only so many words you can use when describing a bottle of wine. Is a wine more likely to be \"tropical\" or \"fruity\"? Create a Series `descriptor_counts` counting how many times each of these two words appears in the `description` column in the dataset."
   ]
  },
  {
   "cell_type": "code",
   "execution_count": 18,
   "id": "0e27a380",
   "metadata": {
    "execution": {
     "iopub.execute_input": "2021-12-27T15:08:47.010255Z",
     "iopub.status.busy": "2021-12-27T15:08:47.009538Z",
     "iopub.status.idle": "2021-12-27T15:08:47.158828Z",
     "shell.execute_reply": "2021-12-27T15:08:47.158305Z",
     "shell.execute_reply.started": "2021-12-27T15:00:14.233881Z"
    },
    "papermill": {
     "duration": 0.189187,
     "end_time": "2021-12-27T15:08:47.158973",
     "exception": false,
     "start_time": "2021-12-27T15:08:46.969786",
     "status": "completed"
    },
    "tags": []
   },
   "outputs": [
    {
     "data": {
      "application/javascript": [
       "parent.postMessage({\"jupyterEvent\": \"custom.exercise_interaction\", \"data\": {\"outcomeType\": 1, \"valueTowardsCompletion\": 0.14285714285714285, \"interactionType\": 1, \"questionType\": 1, \"questionId\": \"6_DescriptorCounts\", \"learnToolsVersion\": \"0.3.4\", \"failureMessage\": \"\", \"exceptionClass\": \"\", \"trace\": \"\"}}, \"*\")"
      ],
      "text/plain": [
       "<IPython.core.display.Javascript object>"
      ]
     },
     "metadata": {},
     "output_type": "display_data"
    },
    {
     "data": {
      "text/markdown": [
       "<span style=\"color:#33cc33\">Correct</span>"
      ],
      "text/plain": [
       "Correct"
      ]
     },
     "metadata": {},
     "output_type": "display_data"
    }
   ],
   "source": [
    "tropical_num = reviews.description.map(lambda desc: \"tropical\" in desc).sum()\n",
    "fruity_num = reviews.description.map(lambda desc: \"fruity\" in desc).sum()\n",
    "descriptor_counts = pd.Series([tropical_num, fruity_num], index=['tropical', 'fruity'])\n",
    "\n",
    "# Check your answer\n",
    "q6.check()"
   ]
  },
  {
   "cell_type": "code",
   "execution_count": 19,
   "id": "92f2c8a8",
   "metadata": {
    "execution": {
     "iopub.execute_input": "2021-12-27T15:08:47.230064Z",
     "iopub.status.busy": "2021-12-27T15:08:47.229185Z",
     "iopub.status.idle": "2021-12-27T15:08:47.231769Z",
     "shell.execute_reply": "2021-12-27T15:08:47.232283Z",
     "shell.execute_reply.started": "2021-12-27T15:00:21.294868Z"
    },
    "papermill": {
     "duration": 0.040114,
     "end_time": "2021-12-27T15:08:47.232447",
     "exception": false,
     "start_time": "2021-12-27T15:08:47.192333",
     "status": "completed"
    },
    "tags": []
   },
   "outputs": [],
   "source": [
    "#q6.hint()\n",
    "#q6.solution()"
   ]
  },
  {
   "cell_type": "markdown",
   "id": "1741a565",
   "metadata": {
    "papermill": {
     "duration": 0.033334,
     "end_time": "2021-12-27T15:08:47.299430",
     "exception": false,
     "start_time": "2021-12-27T15:08:47.266096",
     "status": "completed"
    },
    "tags": []
   },
   "source": [
    "## 7.\n",
    "We'd like to host these wine reviews on our website, but a rating system ranging from 80 to 100 points is too hard to understand - we'd like to translate them into simple star ratings. A score of 95 or higher counts as 3 stars, a score of at least 85 but less than 95 is 2 stars. Any other score is 1 star.\n",
    "\n",
    "Also, the Canadian Vintners Association bought a lot of ads on the site, so any wines from Canada should automatically get 3 stars, regardless of points.\n",
    "\n",
    "Create a series `star_ratings` with the number of stars corresponding to each review in the dataset."
   ]
  },
  {
   "cell_type": "code",
   "execution_count": 20,
   "id": "30a2e388",
   "metadata": {
    "execution": {
     "iopub.execute_input": "2021-12-27T15:08:47.371475Z",
     "iopub.status.busy": "2021-12-27T15:08:47.370841Z",
     "iopub.status.idle": "2021-12-27T15:08:47.373264Z",
     "shell.execute_reply": "2021-12-27T15:08:47.372744Z",
     "shell.execute_reply.started": "2021-12-27T15:06:11.352639Z"
    },
    "papermill": {
     "duration": 0.040854,
     "end_time": "2021-12-27T15:08:47.373403",
     "exception": false,
     "start_time": "2021-12-27T15:08:47.332549",
     "status": "completed"
    },
    "tags": []
   },
   "outputs": [],
   "source": [
    "# first of all creating a function\n",
    "\n",
    "def star_ratings(row):\n",
    "    if row.country == 'Canada':\n",
    "        return 3\n",
    "    elif row.points >= 95:\n",
    "        return 3\n",
    "    elif row.points >= 85:\n",
    "        return 2\n",
    "    else:\n",
    "        return 1\n",
    "        "
   ]
  },
  {
   "cell_type": "code",
   "execution_count": 21,
   "id": "d87e8149",
   "metadata": {
    "execution": {
     "iopub.execute_input": "2021-12-27T15:08:47.445708Z",
     "iopub.status.busy": "2021-12-27T15:08:47.445042Z",
     "iopub.status.idle": "2021-12-27T15:08:52.306645Z",
     "shell.execute_reply": "2021-12-27T15:08:52.306157Z",
     "shell.execute_reply.started": "2021-12-27T15:07:10.770275Z"
    },
    "papermill": {
     "duration": 4.899744,
     "end_time": "2021-12-27T15:08:52.306782",
     "exception": false,
     "start_time": "2021-12-27T15:08:47.407038",
     "status": "completed"
    },
    "tags": []
   },
   "outputs": [
    {
     "data": {
      "application/javascript": [
       "parent.postMessage({\"jupyterEvent\": \"custom.exercise_interaction\", \"data\": {\"outcomeType\": 1, \"valueTowardsCompletion\": 0.14285714285714285, \"interactionType\": 1, \"questionType\": 1, \"questionId\": \"7_StarRatings\", \"learnToolsVersion\": \"0.3.4\", \"failureMessage\": \"\", \"exceptionClass\": \"\", \"trace\": \"\"}}, \"*\")"
      ],
      "text/plain": [
       "<IPython.core.display.Javascript object>"
      ]
     },
     "metadata": {},
     "output_type": "display_data"
    },
    {
     "data": {
      "text/markdown": [
       "<span style=\"color:#33cc33\">Correct</span>"
      ],
      "text/plain": [
       "Correct"
      ]
     },
     "metadata": {},
     "output_type": "display_data"
    }
   ],
   "source": [
    "# Applying the function\n",
    "\n",
    "star_ratings = reviews.apply(star_ratings,axis = 'columns')\n",
    "\n",
    "# Check your answer\n",
    "q7.check()"
   ]
  },
  {
   "cell_type": "code",
   "execution_count": 22,
   "id": "5b1a48b7",
   "metadata": {
    "execution": {
     "iopub.execute_input": "2021-12-27T15:08:52.379753Z",
     "iopub.status.busy": "2021-12-27T15:08:52.379145Z",
     "iopub.status.idle": "2021-12-27T15:08:52.381739Z",
     "shell.execute_reply": "2021-12-27T15:08:52.382314Z",
     "shell.execute_reply.started": "2021-12-27T15:07:08.151081Z"
    },
    "papermill": {
     "duration": 0.041905,
     "end_time": "2021-12-27T15:08:52.382460",
     "exception": false,
     "start_time": "2021-12-27T15:08:52.340555",
     "status": "completed"
    },
    "tags": []
   },
   "outputs": [],
   "source": [
    "#q7.hint()\n",
    "#q7.solution()"
   ]
  },
  {
   "cell_type": "markdown",
   "id": "fcab4de1",
   "metadata": {
    "papermill": {
     "duration": 0.033723,
     "end_time": "2021-12-27T15:08:52.449907",
     "exception": false,
     "start_time": "2021-12-27T15:08:52.416184",
     "status": "completed"
    },
    "tags": []
   },
   "source": [
    "# Keep going\n",
    "Continue to **[grouping and sorting](https://www.kaggle.com/residentmario/grouping-and-sorting)**."
   ]
  },
  {
   "cell_type": "markdown",
   "id": "ecb6ee2e",
   "metadata": {
    "papermill": {
     "duration": 0.033305,
     "end_time": "2021-12-27T15:08:52.517228",
     "exception": false,
     "start_time": "2021-12-27T15:08:52.483923",
     "status": "completed"
    },
    "tags": []
   },
   "source": [
    "---\n",
    "\n",
    "\n",
    "\n",
    "\n",
    "*Have questions or comments? Visit the [course discussion forum](https://www.kaggle.com/learn/pandas/discussion) to chat with other learners.*"
   ]
  }
 ],
 "metadata": {
  "kernelspec": {
   "display_name": "Python 3",
   "language": "python",
   "name": "python3"
  },
  "language_info": {
   "codemirror_mode": {
    "name": "ipython",
    "version": 3
   },
   "file_extension": ".py",
   "mimetype": "text/x-python",
   "name": "python",
   "nbconvert_exporter": "python",
   "pygments_lexer": "ipython3",
   "version": "3.7.12"
  },
  "papermill": {
   "default_parameters": {},
   "duration": 64.123706,
   "end_time": "2021-12-27T15:08:53.160467",
   "environment_variables": {},
   "exception": null,
   "input_path": "__notebook__.ipynb",
   "output_path": "__notebook__.ipynb",
   "parameters": {},
   "start_time": "2021-12-27T15:07:49.036761",
   "version": "2.3.3"
  }
 },
 "nbformat": 4,
 "nbformat_minor": 5
}
