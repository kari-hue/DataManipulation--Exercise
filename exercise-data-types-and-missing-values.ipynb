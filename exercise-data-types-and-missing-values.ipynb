{
 "cells": [
  {
   "cell_type": "markdown",
   "id": "7f196444",
   "metadata": {
    "papermill": {
     "duration": 0.019351,
     "end_time": "2021-12-27T16:30:32.165394",
     "exception": false,
     "start_time": "2021-12-27T16:30:32.146043",
     "status": "completed"
    },
    "tags": []
   },
   "source": [
    "**This notebook is an exercise in the [Pandas](https://www.kaggle.com/learn/pandas) course.  You can reference the tutorial at [this link](https://www.kaggle.com/residentmario/data-types-and-missing-values).**\n",
    "\n",
    "---\n"
   ]
  },
  {
   "cell_type": "markdown",
   "id": "95982bd6",
   "metadata": {
    "papermill": {
     "duration": 0.017959,
     "end_time": "2021-12-27T16:30:32.201700",
     "exception": false,
     "start_time": "2021-12-27T16:30:32.183741",
     "status": "completed"
    },
    "tags": []
   },
   "source": [
    "# Introduction\n",
    "\n",
    "Run the following cell to load your data and some utility functions."
   ]
  },
  {
   "cell_type": "code",
   "execution_count": 1,
   "id": "460dd46c",
   "metadata": {
    "execution": {
     "iopub.execute_input": "2021-12-27T16:30:32.243582Z",
     "iopub.status.busy": "2021-12-27T16:30:32.241802Z",
     "iopub.status.idle": "2021-12-27T16:30:35.356975Z",
     "shell.execute_reply": "2021-12-27T16:30:35.357580Z",
     "shell.execute_reply.started": "2021-12-27T16:15:57.019295Z"
    },
    "papermill": {
     "duration": 3.138357,
     "end_time": "2021-12-27T16:30:35.357907",
     "exception": false,
     "start_time": "2021-12-27T16:30:32.219550",
     "status": "completed"
    },
    "tags": []
   },
   "outputs": [
    {
     "name": "stdout",
     "output_type": "stream",
     "text": [
      "Setup complete.\n"
     ]
    }
   ],
   "source": [
    "import pandas as pd\n",
    "\n",
    "reviews = pd.read_csv(\"../input/wine-reviews/winemag-data-130k-v2.csv\", index_col=0)\n",
    "\n",
    "from learntools.core import binder; binder.bind(globals())\n",
    "from learntools.pandas.data_types_and_missing_data import *\n",
    "print(\"Setup complete.\")"
   ]
  },
  {
   "cell_type": "code",
   "execution_count": 2,
   "id": "6689f266",
   "metadata": {
    "execution": {
     "iopub.execute_input": "2021-12-27T16:30:35.401729Z",
     "iopub.status.busy": "2021-12-27T16:30:35.401061Z",
     "iopub.status.idle": "2021-12-27T16:30:35.421572Z",
     "shell.execute_reply": "2021-12-27T16:30:35.422126Z",
     "shell.execute_reply.started": "2021-12-27T16:21:20.451452Z"
    },
    "papermill": {
     "duration": 0.045816,
     "end_time": "2021-12-27T16:30:35.422298",
     "exception": false,
     "start_time": "2021-12-27T16:30:35.376482",
     "status": "completed"
    },
    "tags": []
   },
   "outputs": [
    {
     "data": {
      "text/html": [
       "<div>\n",
       "<style scoped>\n",
       "    .dataframe tbody tr th:only-of-type {\n",
       "        vertical-align: middle;\n",
       "    }\n",
       "\n",
       "    .dataframe tbody tr th {\n",
       "        vertical-align: top;\n",
       "    }\n",
       "\n",
       "    .dataframe thead th {\n",
       "        text-align: right;\n",
       "    }\n",
       "</style>\n",
       "<table border=\"1\" class=\"dataframe\">\n",
       "  <thead>\n",
       "    <tr style=\"text-align: right;\">\n",
       "      <th></th>\n",
       "      <th>country</th>\n",
       "      <th>description</th>\n",
       "      <th>designation</th>\n",
       "      <th>points</th>\n",
       "      <th>price</th>\n",
       "      <th>province</th>\n",
       "      <th>region_1</th>\n",
       "      <th>region_2</th>\n",
       "      <th>taster_name</th>\n",
       "      <th>taster_twitter_handle</th>\n",
       "      <th>title</th>\n",
       "      <th>variety</th>\n",
       "      <th>winery</th>\n",
       "    </tr>\n",
       "  </thead>\n",
       "  <tbody>\n",
       "    <tr>\n",
       "      <th>0</th>\n",
       "      <td>Italy</td>\n",
       "      <td>Aromas include tropical fruit, broom, brimston...</td>\n",
       "      <td>Vulkà Bianco</td>\n",
       "      <td>87</td>\n",
       "      <td>NaN</td>\n",
       "      <td>Sicily &amp; Sardinia</td>\n",
       "      <td>Etna</td>\n",
       "      <td>NaN</td>\n",
       "      <td>Kerin O’Keefe</td>\n",
       "      <td>@kerinokeefe</td>\n",
       "      <td>Nicosia 2013 Vulkà Bianco  (Etna)</td>\n",
       "      <td>White Blend</td>\n",
       "      <td>Nicosia</td>\n",
       "    </tr>\n",
       "    <tr>\n",
       "      <th>1</th>\n",
       "      <td>Portugal</td>\n",
       "      <td>This is ripe and fruity, a wine that is smooth...</td>\n",
       "      <td>Avidagos</td>\n",
       "      <td>87</td>\n",
       "      <td>15.0</td>\n",
       "      <td>Douro</td>\n",
       "      <td>NaN</td>\n",
       "      <td>NaN</td>\n",
       "      <td>Roger Voss</td>\n",
       "      <td>@vossroger</td>\n",
       "      <td>Quinta dos Avidagos 2011 Avidagos Red (Douro)</td>\n",
       "      <td>Portuguese Red</td>\n",
       "      <td>Quinta dos Avidagos</td>\n",
       "    </tr>\n",
       "    <tr>\n",
       "      <th>2</th>\n",
       "      <td>US</td>\n",
       "      <td>Tart and snappy, the flavors of lime flesh and...</td>\n",
       "      <td>NaN</td>\n",
       "      <td>87</td>\n",
       "      <td>14.0</td>\n",
       "      <td>Oregon</td>\n",
       "      <td>Willamette Valley</td>\n",
       "      <td>Willamette Valley</td>\n",
       "      <td>Paul Gregutt</td>\n",
       "      <td>@paulgwine</td>\n",
       "      <td>Rainstorm 2013 Pinot Gris (Willamette Valley)</td>\n",
       "      <td>Pinot Gris</td>\n",
       "      <td>Rainstorm</td>\n",
       "    </tr>\n",
       "    <tr>\n",
       "      <th>3</th>\n",
       "      <td>US</td>\n",
       "      <td>Pineapple rind, lemon pith and orange blossom ...</td>\n",
       "      <td>Reserve Late Harvest</td>\n",
       "      <td>87</td>\n",
       "      <td>13.0</td>\n",
       "      <td>Michigan</td>\n",
       "      <td>Lake Michigan Shore</td>\n",
       "      <td>NaN</td>\n",
       "      <td>Alexander Peartree</td>\n",
       "      <td>NaN</td>\n",
       "      <td>St. Julian 2013 Reserve Late Harvest Riesling ...</td>\n",
       "      <td>Riesling</td>\n",
       "      <td>St. Julian</td>\n",
       "    </tr>\n",
       "    <tr>\n",
       "      <th>4</th>\n",
       "      <td>US</td>\n",
       "      <td>Much like the regular bottling from 2012, this...</td>\n",
       "      <td>Vintner's Reserve Wild Child Block</td>\n",
       "      <td>87</td>\n",
       "      <td>65.0</td>\n",
       "      <td>Oregon</td>\n",
       "      <td>Willamette Valley</td>\n",
       "      <td>Willamette Valley</td>\n",
       "      <td>Paul Gregutt</td>\n",
       "      <td>@paulgwine</td>\n",
       "      <td>Sweet Cheeks 2012 Vintner's Reserve Wild Child...</td>\n",
       "      <td>Pinot Noir</td>\n",
       "      <td>Sweet Cheeks</td>\n",
       "    </tr>\n",
       "  </tbody>\n",
       "</table>\n",
       "</div>"
      ],
      "text/plain": [
       "    country                                        description  \\\n",
       "0     Italy  Aromas include tropical fruit, broom, brimston...   \n",
       "1  Portugal  This is ripe and fruity, a wine that is smooth...   \n",
       "2        US  Tart and snappy, the flavors of lime flesh and...   \n",
       "3        US  Pineapple rind, lemon pith and orange blossom ...   \n",
       "4        US  Much like the regular bottling from 2012, this...   \n",
       "\n",
       "                          designation  points  price           province  \\\n",
       "0                        Vulkà Bianco      87    NaN  Sicily & Sardinia   \n",
       "1                            Avidagos      87   15.0              Douro   \n",
       "2                                 NaN      87   14.0             Oregon   \n",
       "3                Reserve Late Harvest      87   13.0           Michigan   \n",
       "4  Vintner's Reserve Wild Child Block      87   65.0             Oregon   \n",
       "\n",
       "              region_1           region_2         taster_name  \\\n",
       "0                 Etna                NaN       Kerin O’Keefe   \n",
       "1                  NaN                NaN          Roger Voss   \n",
       "2    Willamette Valley  Willamette Valley        Paul Gregutt   \n",
       "3  Lake Michigan Shore                NaN  Alexander Peartree   \n",
       "4    Willamette Valley  Willamette Valley        Paul Gregutt   \n",
       "\n",
       "  taster_twitter_handle                                              title  \\\n",
       "0          @kerinokeefe                  Nicosia 2013 Vulkà Bianco  (Etna)   \n",
       "1            @vossroger      Quinta dos Avidagos 2011 Avidagos Red (Douro)   \n",
       "2           @paulgwine       Rainstorm 2013 Pinot Gris (Willamette Valley)   \n",
       "3                   NaN  St. Julian 2013 Reserve Late Harvest Riesling ...   \n",
       "4           @paulgwine   Sweet Cheeks 2012 Vintner's Reserve Wild Child...   \n",
       "\n",
       "          variety               winery  \n",
       "0     White Blend              Nicosia  \n",
       "1  Portuguese Red  Quinta dos Avidagos  \n",
       "2      Pinot Gris            Rainstorm  \n",
       "3        Riesling           St. Julian  \n",
       "4      Pinot Noir         Sweet Cheeks  "
      ]
     },
     "execution_count": 2,
     "metadata": {},
     "output_type": "execute_result"
    }
   ],
   "source": [
    "reviews.head()"
   ]
  },
  {
   "cell_type": "markdown",
   "id": "d67b9dd1",
   "metadata": {
    "papermill": {
     "duration": 0.018676,
     "end_time": "2021-12-27T16:30:35.460064",
     "exception": false,
     "start_time": "2021-12-27T16:30:35.441388",
     "status": "completed"
    },
    "tags": []
   },
   "source": [
    "# Exercises"
   ]
  },
  {
   "cell_type": "markdown",
   "id": "92cbdf3c",
   "metadata": {
    "papermill": {
     "duration": 0.018559,
     "end_time": "2021-12-27T16:30:35.497781",
     "exception": false,
     "start_time": "2021-12-27T16:30:35.479222",
     "status": "completed"
    },
    "tags": []
   },
   "source": [
    "## 1. \n",
    "What is the data type of the `points` column in the dataset?"
   ]
  },
  {
   "cell_type": "code",
   "execution_count": 3,
   "id": "07d6898c",
   "metadata": {
    "execution": {
     "iopub.execute_input": "2021-12-27T16:30:35.540528Z",
     "iopub.status.busy": "2021-12-27T16:30:35.539500Z",
     "iopub.status.idle": "2021-12-27T16:30:35.545962Z",
     "shell.execute_reply": "2021-12-27T16:30:35.546447Z",
     "shell.execute_reply.started": "2021-12-27T16:16:31.396330Z"
    },
    "papermill": {
     "duration": 0.030167,
     "end_time": "2021-12-27T16:30:35.546630",
     "exception": false,
     "start_time": "2021-12-27T16:30:35.516463",
     "status": "completed"
    },
    "tags": []
   },
   "outputs": [
    {
     "data": {
      "application/javascript": [
       "parent.postMessage({\"jupyterEvent\": \"custom.exercise_interaction\", \"data\": {\"outcomeType\": 1, \"valueTowardsCompletion\": 0.25, \"interactionType\": 1, \"questionType\": 1, \"questionId\": \"1_PointsDtype\", \"learnToolsVersion\": \"0.3.4\", \"failureMessage\": \"\", \"exceptionClass\": \"\", \"trace\": \"\"}}, \"*\")"
      ],
      "text/plain": [
       "<IPython.core.display.Javascript object>"
      ]
     },
     "metadata": {},
     "output_type": "display_data"
    },
    {
     "data": {
      "text/markdown": [
       "<span style=\"color:#33cc33\">Correct</span>"
      ],
      "text/plain": [
       "Correct"
      ]
     },
     "metadata": {},
     "output_type": "display_data"
    }
   ],
   "source": [
    "# Your code here\n",
    "dtype = reviews['points'].dtypes\n",
    "\n",
    "# Check your answer\n",
    "q1.check()"
   ]
  },
  {
   "cell_type": "code",
   "execution_count": 4,
   "id": "4d22781b",
   "metadata": {
    "execution": {
     "iopub.execute_input": "2021-12-27T16:30:35.591366Z",
     "iopub.status.busy": "2021-12-27T16:30:35.590369Z",
     "iopub.status.idle": "2021-12-27T16:30:35.595433Z",
     "shell.execute_reply": "2021-12-27T16:30:35.595933Z",
     "shell.execute_reply.started": "2021-12-27T16:16:52.333858Z"
    },
    "papermill": {
     "duration": 0.028625,
     "end_time": "2021-12-27T16:30:35.596095",
     "exception": false,
     "start_time": "2021-12-27T16:30:35.567470",
     "status": "completed"
    },
    "tags": []
   },
   "outputs": [
    {
     "data": {
      "text/plain": [
       "dtype('int64')"
      ]
     },
     "execution_count": 4,
     "metadata": {},
     "output_type": "execute_result"
    }
   ],
   "source": [
    "# Printing result\n",
    "\n",
    "dtype"
   ]
  },
  {
   "cell_type": "markdown",
   "id": "dc38cf2e",
   "metadata": {
    "papermill": {
     "duration": 0.019597,
     "end_time": "2021-12-27T16:30:35.635822",
     "exception": false,
     "start_time": "2021-12-27T16:30:35.616225",
     "status": "completed"
    },
    "tags": []
   },
   "source": [
    "<b>Answer : </b> The datatype of points column is integer type."
   ]
  },
  {
   "cell_type": "code",
   "execution_count": 5,
   "id": "82870e5e",
   "metadata": {
    "execution": {
     "iopub.execute_input": "2021-12-27T16:30:35.679639Z",
     "iopub.status.busy": "2021-12-27T16:30:35.678705Z",
     "iopub.status.idle": "2021-12-27T16:30:35.681761Z",
     "shell.execute_reply": "2021-12-27T16:30:35.682337Z"
    },
    "papermill": {
     "duration": 0.02659,
     "end_time": "2021-12-27T16:30:35.682499",
     "exception": false,
     "start_time": "2021-12-27T16:30:35.655909",
     "status": "completed"
    },
    "tags": []
   },
   "outputs": [],
   "source": [
    "#q1.hint()\n",
    "#q1.solution()"
   ]
  },
  {
   "cell_type": "markdown",
   "id": "63f93bdc",
   "metadata": {
    "papermill": {
     "duration": 0.01974,
     "end_time": "2021-12-27T16:30:35.722242",
     "exception": false,
     "start_time": "2021-12-27T16:30:35.702502",
     "status": "completed"
    },
    "tags": []
   },
   "source": [
    "## 2. \n",
    "Create a Series from entries in the `points` column, but convert the entries to strings. Hint: strings are `str` in native Python."
   ]
  },
  {
   "cell_type": "code",
   "execution_count": 6,
   "id": "12ef9611",
   "metadata": {
    "execution": {
     "iopub.execute_input": "2021-12-27T16:30:35.767245Z",
     "iopub.status.busy": "2021-12-27T16:30:35.766258Z",
     "iopub.status.idle": "2021-12-27T16:30:35.939435Z",
     "shell.execute_reply": "2021-12-27T16:30:35.939991Z",
     "shell.execute_reply.started": "2021-12-27T16:18:38.765087Z"
    },
    "papermill": {
     "duration": 0.197188,
     "end_time": "2021-12-27T16:30:35.940172",
     "exception": false,
     "start_time": "2021-12-27T16:30:35.742984",
     "status": "completed"
    },
    "tags": []
   },
   "outputs": [
    {
     "data": {
      "application/javascript": [
       "parent.postMessage({\"jupyterEvent\": \"custom.exercise_interaction\", \"data\": {\"outcomeType\": 1, \"valueTowardsCompletion\": 0.25, \"interactionType\": 1, \"questionType\": 1, \"questionId\": \"2_StrPoints\", \"learnToolsVersion\": \"0.3.4\", \"failureMessage\": \"\", \"exceptionClass\": \"\", \"trace\": \"\"}}, \"*\")"
      ],
      "text/plain": [
       "<IPython.core.display.Javascript object>"
      ]
     },
     "metadata": {},
     "output_type": "display_data"
    },
    {
     "data": {
      "text/markdown": [
       "<span style=\"color:#33cc33\">Correct</span>"
      ],
      "text/plain": [
       "Correct"
      ]
     },
     "metadata": {},
     "output_type": "display_data"
    }
   ],
   "source": [
    "point_strings = reviews.points.astype(str)\n",
    "\n",
    "# Check your answer\n",
    "q2.check()"
   ]
  },
  {
   "cell_type": "code",
   "execution_count": 7,
   "id": "a20b99d9",
   "metadata": {
    "execution": {
     "iopub.execute_input": "2021-12-27T16:30:35.988339Z",
     "iopub.status.busy": "2021-12-27T16:30:35.987585Z",
     "iopub.status.idle": "2021-12-27T16:30:35.990995Z",
     "shell.execute_reply": "2021-12-27T16:30:35.990335Z"
    },
    "papermill": {
     "duration": 0.029749,
     "end_time": "2021-12-27T16:30:35.991195",
     "exception": false,
     "start_time": "2021-12-27T16:30:35.961446",
     "status": "completed"
    },
    "tags": []
   },
   "outputs": [],
   "source": [
    "#q2.hint()\n",
    "#q2.solution()"
   ]
  },
  {
   "cell_type": "markdown",
   "id": "07a631f3",
   "metadata": {
    "papermill": {
     "duration": 0.021495,
     "end_time": "2021-12-27T16:30:36.034686",
     "exception": false,
     "start_time": "2021-12-27T16:30:36.013191",
     "status": "completed"
    },
    "tags": []
   },
   "source": [
    "## 3.\n",
    "Sometimes the price column is null. How many reviews in the dataset are missing a price?"
   ]
  },
  {
   "cell_type": "code",
   "execution_count": 8,
   "id": "8ce5abe7",
   "metadata": {
    "execution": {
     "iopub.execute_input": "2021-12-27T16:30:36.081983Z",
     "iopub.status.busy": "2021-12-27T16:30:36.081026Z",
     "iopub.status.idle": "2021-12-27T16:30:36.089915Z",
     "shell.execute_reply": "2021-12-27T16:30:36.089323Z",
     "shell.execute_reply.started": "2021-12-27T16:19:15.286001Z"
    },
    "papermill": {
     "duration": 0.033913,
     "end_time": "2021-12-27T16:30:36.090066",
     "exception": false,
     "start_time": "2021-12-27T16:30:36.056153",
     "status": "completed"
    },
    "tags": []
   },
   "outputs": [
    {
     "data": {
      "application/javascript": [
       "parent.postMessage({\"jupyterEvent\": \"custom.exercise_interaction\", \"data\": {\"outcomeType\": 1, \"valueTowardsCompletion\": 0.25, \"interactionType\": 1, \"questionType\": 1, \"questionId\": \"3_CountMissingPrices\", \"learnToolsVersion\": \"0.3.4\", \"failureMessage\": \"\", \"exceptionClass\": \"\", \"trace\": \"\"}}, \"*\")"
      ],
      "text/plain": [
       "<IPython.core.display.Javascript object>"
      ]
     },
     "metadata": {},
     "output_type": "display_data"
    },
    {
     "data": {
      "text/markdown": [
       "<span style=\"color:#33cc33\">Correct</span>"
      ],
      "text/plain": [
       "Correct"
      ]
     },
     "metadata": {},
     "output_type": "display_data"
    }
   ],
   "source": [
    "n_missing_prices = reviews['price'].isnull().sum()\n",
    "\n",
    "# Check your answer\n",
    "q3.check()"
   ]
  },
  {
   "cell_type": "code",
   "execution_count": 9,
   "id": "8bdfa0c0",
   "metadata": {
    "execution": {
     "iopub.execute_input": "2021-12-27T16:30:36.141935Z",
     "iopub.status.busy": "2021-12-27T16:30:36.141088Z",
     "iopub.status.idle": "2021-12-27T16:30:36.144248Z",
     "shell.execute_reply": "2021-12-27T16:30:36.144767Z",
     "shell.execute_reply.started": "2021-12-27T16:19:33.005033Z"
    },
    "papermill": {
     "duration": 0.032238,
     "end_time": "2021-12-27T16:30:36.144943",
     "exception": false,
     "start_time": "2021-12-27T16:30:36.112705",
     "status": "completed"
    },
    "tags": []
   },
   "outputs": [
    {
     "data": {
      "text/plain": [
       "8996"
      ]
     },
     "execution_count": 9,
     "metadata": {},
     "output_type": "execute_result"
    }
   ],
   "source": [
    "# printing result\n",
    "\n",
    "n_missing_prices"
   ]
  },
  {
   "cell_type": "markdown",
   "id": "33541495",
   "metadata": {
    "papermill": {
     "duration": 0.02249,
     "end_time": "2021-12-27T16:30:36.190671",
     "exception": false,
     "start_time": "2021-12-27T16:30:36.168181",
     "status": "completed"
    },
    "tags": []
   },
   "source": [
    "<b> Answer :</b> The reviews has 8996 missing values for the price column."
   ]
  },
  {
   "cell_type": "code",
   "execution_count": 10,
   "id": "abf923f9",
   "metadata": {
    "execution": {
     "iopub.execute_input": "2021-12-27T16:30:36.240036Z",
     "iopub.status.busy": "2021-12-27T16:30:36.239385Z",
     "iopub.status.idle": "2021-12-27T16:30:36.241928Z",
     "shell.execute_reply": "2021-12-27T16:30:36.241372Z"
    },
    "papermill": {
     "duration": 0.028757,
     "end_time": "2021-12-27T16:30:36.242060",
     "exception": false,
     "start_time": "2021-12-27T16:30:36.213303",
     "status": "completed"
    },
    "tags": []
   },
   "outputs": [],
   "source": [
    "#q3.hint()\n",
    "#q3.solution()"
   ]
  },
  {
   "cell_type": "markdown",
   "id": "8b7e2aa5",
   "metadata": {
    "papermill": {
     "duration": 0.022417,
     "end_time": "2021-12-27T16:30:36.287232",
     "exception": false,
     "start_time": "2021-12-27T16:30:36.264815",
     "status": "completed"
    },
    "tags": []
   },
   "source": [
    "## 4.\n",
    "What are the most common wine-producing regions? Create a Series counting the number of times each value occurs in the `region_1` field. This field is often missing data, so replace missing values with `Unknown`. Sort in descending order.  Your output should look something like this:\n",
    "\n",
    "```\n",
    "Unknown                    21247\n",
    "Napa Valley                 4480\n",
    "                           ...  \n",
    "Bardolino Superiore            1\n",
    "Primitivo del Tarantino        1\n",
    "Name: region_1, Length: 1230, dtype: int64\n",
    "```"
   ]
  },
  {
   "cell_type": "code",
   "execution_count": 11,
   "id": "1b109c92",
   "metadata": {
    "execution": {
     "iopub.execute_input": "2021-12-27T16:30:36.354907Z",
     "iopub.status.busy": "2021-12-27T16:30:36.354203Z",
     "iopub.status.idle": "2021-12-27T16:30:36.360543Z",
     "shell.execute_reply": "2021-12-27T16:30:36.361091Z",
     "shell.execute_reply.started": "2021-12-27T16:24:52.123987Z"
    },
    "papermill": {
     "duration": 0.05081,
     "end_time": "2021-12-27T16:30:36.361265",
     "exception": false,
     "start_time": "2021-12-27T16:30:36.310455",
     "status": "completed"
    },
    "tags": []
   },
   "outputs": [
    {
     "data": {
      "text/plain": [
       "Napa Valley                4480\n",
       "Columbia Valley (WA)       4124\n",
       "Russian River Valley       3091\n",
       "California                 2629\n",
       "Paso Robles                2350\n",
       "                           ... \n",
       "Lamezia                       1\n",
       "Trentino Superiore            1\n",
       "Grave del Friuli              1\n",
       "Vin Santo di Carmignano       1\n",
       "Paestum                       1\n",
       "Name: region_1, Length: 1229, dtype: int64"
      ]
     },
     "execution_count": 11,
     "metadata": {},
     "output_type": "execute_result"
    }
   ],
   "source": [
    "# observing the occurance of value in region 1 before filling in null values\n",
    "\n",
    "occurance_of_value_before = reviews['region_1'].value_counts()\n",
    "occurance_of_value_before"
   ]
  },
  {
   "cell_type": "code",
   "execution_count": 12,
   "id": "5b246b6e",
   "metadata": {
    "execution": {
     "iopub.execute_input": "2021-12-27T16:30:36.414354Z",
     "iopub.status.busy": "2021-12-27T16:30:36.411501Z",
     "iopub.status.idle": "2021-12-27T16:30:36.432618Z",
     "shell.execute_reply": "2021-12-27T16:30:36.433188Z",
     "shell.execute_reply.started": "2021-12-27T16:25:29.877957Z"
    },
    "papermill": {
     "duration": 0.047606,
     "end_time": "2021-12-27T16:30:36.433377",
     "exception": false,
     "start_time": "2021-12-27T16:30:36.385771",
     "status": "completed"
    },
    "tags": []
   },
   "outputs": [
    {
     "data": {
      "text/plain": [
       "21247"
      ]
     },
     "execution_count": 12,
     "metadata": {},
     "output_type": "execute_result"
    }
   ],
   "source": [
    "# Observing the null values\n",
    "\n",
    "reviews['region_1'].isnull().sum()"
   ]
  },
  {
   "cell_type": "markdown",
   "id": "722b621b",
   "metadata": {
    "papermill": {
     "duration": 0.023322,
     "end_time": "2021-12-27T16:30:36.480193",
     "exception": false,
     "start_time": "2021-12-27T16:30:36.456871",
     "status": "completed"
    },
    "tags": []
   },
   "source": [
    "<b> Observation : </b>There are about 21247 null values in the region_1 column. So we need to or fill in the null values with \"unknown\"."
   ]
  },
  {
   "cell_type": "code",
   "execution_count": 13,
   "id": "9ebfdc55",
   "metadata": {
    "execution": {
     "iopub.execute_input": "2021-12-27T16:30:36.530314Z",
     "iopub.status.busy": "2021-12-27T16:30:36.529698Z",
     "iopub.status.idle": "2021-12-27T16:30:36.549287Z",
     "shell.execute_reply": "2021-12-27T16:30:36.548587Z",
     "shell.execute_reply.started": "2021-12-27T16:29:09.675661Z"
    },
    "papermill": {
     "duration": 0.04564,
     "end_time": "2021-12-27T16:30:36.549422",
     "exception": false,
     "start_time": "2021-12-27T16:30:36.503782",
     "status": "completed"
    },
    "tags": []
   },
   "outputs": [],
   "source": [
    "# Filling in the null values\n",
    "\n",
    "null_value_filled = reviews['region_1'].fillna('unknown')"
   ]
  },
  {
   "cell_type": "code",
   "execution_count": 14,
   "id": "ff7d705c",
   "metadata": {
    "execution": {
     "iopub.execute_input": "2021-12-27T16:30:36.620887Z",
     "iopub.status.busy": "2021-12-27T16:30:36.620173Z",
     "iopub.status.idle": "2021-12-27T16:30:36.660666Z",
     "shell.execute_reply": "2021-12-27T16:30:36.661165Z",
     "shell.execute_reply.started": "2021-12-27T16:29:54.283887Z"
    },
    "papermill": {
     "duration": 0.088278,
     "end_time": "2021-12-27T16:30:36.661332",
     "exception": false,
     "start_time": "2021-12-27T16:30:36.573054",
     "status": "completed"
    },
    "tags": []
   },
   "outputs": [
    {
     "data": {
      "application/javascript": [
       "parent.postMessage({\"jupyterEvent\": \"custom.exercise_interaction\", \"data\": {\"outcomeType\": 1, \"valueTowardsCompletion\": 0.25, \"interactionType\": 1, \"questionType\": 2, \"questionId\": \"4_ReviewsPerRegion\", \"learnToolsVersion\": \"0.3.4\", \"failureMessage\": \"\", \"exceptionClass\": \"\", \"trace\": \"\"}}, \"*\")"
      ],
      "text/plain": [
       "<IPython.core.display.Javascript object>"
      ]
     },
     "metadata": {},
     "output_type": "display_data"
    },
    {
     "data": {
      "text/markdown": [
       "<span style=\"color:#33cc33\">Correct</span>"
      ],
      "text/plain": [
       "Correct"
      ]
     },
     "metadata": {},
     "output_type": "display_data"
    }
   ],
   "source": [
    "reviews_per_region = null_value_filled.value_counts().sort_values(ascending = False)\n",
    "\n",
    "# Check your answer\n",
    "q4.check()"
   ]
  },
  {
   "cell_type": "code",
   "execution_count": 15,
   "id": "50146906",
   "metadata": {
    "execution": {
     "iopub.execute_input": "2021-12-27T16:30:36.714631Z",
     "iopub.status.busy": "2021-12-27T16:30:36.713870Z",
     "iopub.status.idle": "2021-12-27T16:30:36.716351Z",
     "shell.execute_reply": "2021-12-27T16:30:36.716925Z"
    },
    "papermill": {
     "duration": 0.031386,
     "end_time": "2021-12-27T16:30:36.717096",
     "exception": false,
     "start_time": "2021-12-27T16:30:36.685710",
     "status": "completed"
    },
    "tags": []
   },
   "outputs": [],
   "source": [
    "#q4.hint()\n",
    "#q4.solution()"
   ]
  },
  {
   "cell_type": "markdown",
   "id": "df4a33f8",
   "metadata": {
    "papermill": {
     "duration": 0.024842,
     "end_time": "2021-12-27T16:30:36.766624",
     "exception": false,
     "start_time": "2021-12-27T16:30:36.741782",
     "status": "completed"
    },
    "tags": []
   },
   "source": [
    "# Keep going\n",
    "\n",
    "Move on to **[renaming and combining](https://www.kaggle.com/residentmario/renaming-and-combining)**."
   ]
  },
  {
   "cell_type": "markdown",
   "id": "94b43f9a",
   "metadata": {
    "papermill": {
     "duration": 0.024228,
     "end_time": "2021-12-27T16:30:36.815339",
     "exception": false,
     "start_time": "2021-12-27T16:30:36.791111",
     "status": "completed"
    },
    "tags": []
   },
   "source": [
    "---\n",
    "\n",
    "\n",
    "\n",
    "\n",
    "*Have questions or comments? Visit the [course discussion forum](https://www.kaggle.com/learn/pandas/discussion) to chat with other learners.*"
   ]
  }
 ],
 "metadata": {
  "kernelspec": {
   "display_name": "Python 3",
   "language": "python",
   "name": "python3"
  },
  "language_info": {
   "codemirror_mode": {
    "name": "ipython",
    "version": 3
   },
   "file_extension": ".py",
   "mimetype": "text/x-python",
   "name": "python",
   "nbconvert_exporter": "python",
   "pygments_lexer": "ipython3",
   "version": "3.7.12"
  },
  "papermill": {
   "default_parameters": {},
   "duration": 15.98371,
   "end_time": "2021-12-27T16:30:37.549750",
   "environment_variables": {},
   "exception": null,
   "input_path": "__notebook__.ipynb",
   "output_path": "__notebook__.ipynb",
   "parameters": {},
   "start_time": "2021-12-27T16:30:21.566040",
   "version": "2.3.3"
  }
 },
 "nbformat": 4,
 "nbformat_minor": 5
}
