{
 "cells": [
  {
   "cell_type": "markdown",
   "id": "7bff46d9",
   "metadata": {
    "papermill": {
     "duration": 0.025564,
     "end_time": "2021-12-27T16:11:57.378283",
     "exception": false,
     "start_time": "2021-12-27T16:11:57.352719",
     "status": "completed"
    },
    "tags": []
   },
   "source": [
    "**This notebook is an exercise in the [Pandas](https://www.kaggle.com/learn/pandas) course.  You can reference the tutorial at [this link](https://www.kaggle.com/residentmario/grouping-and-sorting).**\n",
    "\n",
    "---\n"
   ]
  },
  {
   "cell_type": "markdown",
   "id": "109205dc",
   "metadata": {
    "papermill": {
     "duration": 0.023983,
     "end_time": "2021-12-27T16:11:57.426781",
     "exception": false,
     "start_time": "2021-12-27T16:11:57.402798",
     "status": "completed"
    },
    "tags": []
   },
   "source": [
    "# Introduction\n",
    "\n",
    "In these exercises we'll apply groupwise analysis to our dataset.\n",
    "\n",
    "Run the code cell below to load the data before running the exercises."
   ]
  },
  {
   "cell_type": "code",
   "execution_count": 1,
   "id": "108bb238",
   "metadata": {
    "execution": {
     "iopub.execute_input": "2021-12-27T16:11:57.479228Z",
     "iopub.status.busy": "2021-12-27T16:11:57.478113Z",
     "iopub.status.idle": "2021-12-27T16:12:00.378976Z",
     "shell.execute_reply": "2021-12-27T16:12:00.379490Z",
     "shell.execute_reply.started": "2021-12-27T15:21:25.212624Z"
    },
    "papermill": {
     "duration": 2.928951,
     "end_time": "2021-12-27T16:12:00.379772",
     "exception": false,
     "start_time": "2021-12-27T16:11:57.450821",
     "status": "completed"
    },
    "tags": []
   },
   "outputs": [
    {
     "name": "stdout",
     "output_type": "stream",
     "text": [
      "Setup complete.\n"
     ]
    }
   ],
   "source": [
    "import pandas as pd\n",
    "\n",
    "reviews = pd.read_csv(\"../input/wine-reviews/winemag-data-130k-v2.csv\", index_col=0)\n",
    "#pd.set_option(\"display.max_rows\", 5)\n",
    "\n",
    "from learntools.core import binder; binder.bind(globals())\n",
    "from learntools.pandas.grouping_and_sorting import *\n",
    "print(\"Setup complete.\")"
   ]
  },
  {
   "cell_type": "code",
   "execution_count": 2,
   "id": "1097f0f9",
   "metadata": {
    "execution": {
     "iopub.execute_input": "2021-12-27T16:12:00.432831Z",
     "iopub.status.busy": "2021-12-27T16:12:00.431879Z",
     "iopub.status.idle": "2021-12-27T16:12:00.455641Z",
     "shell.execute_reply": "2021-12-27T16:12:00.455140Z",
     "shell.execute_reply.started": "2021-12-27T15:23:59.217812Z"
    },
    "papermill": {
     "duration": 0.051135,
     "end_time": "2021-12-27T16:12:00.455785",
     "exception": false,
     "start_time": "2021-12-27T16:12:00.404650",
     "status": "completed"
    },
    "tags": []
   },
   "outputs": [
    {
     "data": {
      "text/html": [
       "<div>\n",
       "<style scoped>\n",
       "    .dataframe tbody tr th:only-of-type {\n",
       "        vertical-align: middle;\n",
       "    }\n",
       "\n",
       "    .dataframe tbody tr th {\n",
       "        vertical-align: top;\n",
       "    }\n",
       "\n",
       "    .dataframe thead th {\n",
       "        text-align: right;\n",
       "    }\n",
       "</style>\n",
       "<table border=\"1\" class=\"dataframe\">\n",
       "  <thead>\n",
       "    <tr style=\"text-align: right;\">\n",
       "      <th></th>\n",
       "      <th>country</th>\n",
       "      <th>description</th>\n",
       "      <th>designation</th>\n",
       "      <th>points</th>\n",
       "      <th>price</th>\n",
       "      <th>province</th>\n",
       "      <th>region_1</th>\n",
       "      <th>region_2</th>\n",
       "      <th>taster_name</th>\n",
       "      <th>taster_twitter_handle</th>\n",
       "      <th>title</th>\n",
       "      <th>variety</th>\n",
       "      <th>winery</th>\n",
       "    </tr>\n",
       "  </thead>\n",
       "  <tbody>\n",
       "    <tr>\n",
       "      <th>0</th>\n",
       "      <td>Italy</td>\n",
       "      <td>Aromas include tropical fruit, broom, brimston...</td>\n",
       "      <td>Vulkà Bianco</td>\n",
       "      <td>87</td>\n",
       "      <td>NaN</td>\n",
       "      <td>Sicily &amp; Sardinia</td>\n",
       "      <td>Etna</td>\n",
       "      <td>NaN</td>\n",
       "      <td>Kerin O’Keefe</td>\n",
       "      <td>@kerinokeefe</td>\n",
       "      <td>Nicosia 2013 Vulkà Bianco  (Etna)</td>\n",
       "      <td>White Blend</td>\n",
       "      <td>Nicosia</td>\n",
       "    </tr>\n",
       "    <tr>\n",
       "      <th>1</th>\n",
       "      <td>Portugal</td>\n",
       "      <td>This is ripe and fruity, a wine that is smooth...</td>\n",
       "      <td>Avidagos</td>\n",
       "      <td>87</td>\n",
       "      <td>15.0</td>\n",
       "      <td>Douro</td>\n",
       "      <td>NaN</td>\n",
       "      <td>NaN</td>\n",
       "      <td>Roger Voss</td>\n",
       "      <td>@vossroger</td>\n",
       "      <td>Quinta dos Avidagos 2011 Avidagos Red (Douro)</td>\n",
       "      <td>Portuguese Red</td>\n",
       "      <td>Quinta dos Avidagos</td>\n",
       "    </tr>\n",
       "    <tr>\n",
       "      <th>2</th>\n",
       "      <td>US</td>\n",
       "      <td>Tart and snappy, the flavors of lime flesh and...</td>\n",
       "      <td>NaN</td>\n",
       "      <td>87</td>\n",
       "      <td>14.0</td>\n",
       "      <td>Oregon</td>\n",
       "      <td>Willamette Valley</td>\n",
       "      <td>Willamette Valley</td>\n",
       "      <td>Paul Gregutt</td>\n",
       "      <td>@paulgwine</td>\n",
       "      <td>Rainstorm 2013 Pinot Gris (Willamette Valley)</td>\n",
       "      <td>Pinot Gris</td>\n",
       "      <td>Rainstorm</td>\n",
       "    </tr>\n",
       "    <tr>\n",
       "      <th>3</th>\n",
       "      <td>US</td>\n",
       "      <td>Pineapple rind, lemon pith and orange blossom ...</td>\n",
       "      <td>Reserve Late Harvest</td>\n",
       "      <td>87</td>\n",
       "      <td>13.0</td>\n",
       "      <td>Michigan</td>\n",
       "      <td>Lake Michigan Shore</td>\n",
       "      <td>NaN</td>\n",
       "      <td>Alexander Peartree</td>\n",
       "      <td>NaN</td>\n",
       "      <td>St. Julian 2013 Reserve Late Harvest Riesling ...</td>\n",
       "      <td>Riesling</td>\n",
       "      <td>St. Julian</td>\n",
       "    </tr>\n",
       "    <tr>\n",
       "      <th>4</th>\n",
       "      <td>US</td>\n",
       "      <td>Much like the regular bottling from 2012, this...</td>\n",
       "      <td>Vintner's Reserve Wild Child Block</td>\n",
       "      <td>87</td>\n",
       "      <td>65.0</td>\n",
       "      <td>Oregon</td>\n",
       "      <td>Willamette Valley</td>\n",
       "      <td>Willamette Valley</td>\n",
       "      <td>Paul Gregutt</td>\n",
       "      <td>@paulgwine</td>\n",
       "      <td>Sweet Cheeks 2012 Vintner's Reserve Wild Child...</td>\n",
       "      <td>Pinot Noir</td>\n",
       "      <td>Sweet Cheeks</td>\n",
       "    </tr>\n",
       "  </tbody>\n",
       "</table>\n",
       "</div>"
      ],
      "text/plain": [
       "    country                                        description  \\\n",
       "0     Italy  Aromas include tropical fruit, broom, brimston...   \n",
       "1  Portugal  This is ripe and fruity, a wine that is smooth...   \n",
       "2        US  Tart and snappy, the flavors of lime flesh and...   \n",
       "3        US  Pineapple rind, lemon pith and orange blossom ...   \n",
       "4        US  Much like the regular bottling from 2012, this...   \n",
       "\n",
       "                          designation  points  price           province  \\\n",
       "0                        Vulkà Bianco      87    NaN  Sicily & Sardinia   \n",
       "1                            Avidagos      87   15.0              Douro   \n",
       "2                                 NaN      87   14.0             Oregon   \n",
       "3                Reserve Late Harvest      87   13.0           Michigan   \n",
       "4  Vintner's Reserve Wild Child Block      87   65.0             Oregon   \n",
       "\n",
       "              region_1           region_2         taster_name  \\\n",
       "0                 Etna                NaN       Kerin O’Keefe   \n",
       "1                  NaN                NaN          Roger Voss   \n",
       "2    Willamette Valley  Willamette Valley        Paul Gregutt   \n",
       "3  Lake Michigan Shore                NaN  Alexander Peartree   \n",
       "4    Willamette Valley  Willamette Valley        Paul Gregutt   \n",
       "\n",
       "  taster_twitter_handle                                              title  \\\n",
       "0          @kerinokeefe                  Nicosia 2013 Vulkà Bianco  (Etna)   \n",
       "1            @vossroger      Quinta dos Avidagos 2011 Avidagos Red (Douro)   \n",
       "2           @paulgwine       Rainstorm 2013 Pinot Gris (Willamette Valley)   \n",
       "3                   NaN  St. Julian 2013 Reserve Late Harvest Riesling ...   \n",
       "4           @paulgwine   Sweet Cheeks 2012 Vintner's Reserve Wild Child...   \n",
       "\n",
       "          variety               winery  \n",
       "0     White Blend              Nicosia  \n",
       "1  Portuguese Red  Quinta dos Avidagos  \n",
       "2      Pinot Gris            Rainstorm  \n",
       "3        Riesling           St. Julian  \n",
       "4      Pinot Noir         Sweet Cheeks  "
      ]
     },
     "execution_count": 2,
     "metadata": {},
     "output_type": "execute_result"
    }
   ],
   "source": [
    "reviews.head()"
   ]
  },
  {
   "cell_type": "markdown",
   "id": "4fcd6d3a",
   "metadata": {
    "papermill": {
     "duration": 0.02465,
     "end_time": "2021-12-27T16:12:00.505564",
     "exception": false,
     "start_time": "2021-12-27T16:12:00.480914",
     "status": "completed"
    },
    "tags": []
   },
   "source": [
    "# Exercises"
   ]
  },
  {
   "cell_type": "markdown",
   "id": "f23a5593",
   "metadata": {
    "papermill": {
     "duration": 0.024681,
     "end_time": "2021-12-27T16:12:00.555164",
     "exception": false,
     "start_time": "2021-12-27T16:12:00.530483",
     "status": "completed"
    },
    "tags": []
   },
   "source": [
    "## 1.\n",
    "Who are the most common wine reviewers in the dataset? Create a `Series` whose index is the `taster_twitter_handle` category from the dataset, and whose values count how many reviews each person wrote."
   ]
  },
  {
   "cell_type": "code",
   "execution_count": 3,
   "id": "abcdf7ab",
   "metadata": {
    "execution": {
     "iopub.execute_input": "2021-12-27T16:12:00.609634Z",
     "iopub.status.busy": "2021-12-27T16:12:00.608687Z",
     "iopub.status.idle": "2021-12-27T16:12:00.634200Z",
     "shell.execute_reply": "2021-12-27T16:12:00.634724Z",
     "shell.execute_reply.started": "2021-12-27T15:41:52.957434Z"
    },
    "papermill": {
     "duration": 0.054647,
     "end_time": "2021-12-27T16:12:00.634906",
     "exception": false,
     "start_time": "2021-12-27T16:12:00.580259",
     "status": "completed"
    },
    "tags": []
   },
   "outputs": [
    {
     "data": {
      "application/javascript": [
       "parent.postMessage({\"jupyterEvent\": \"custom.exercise_interaction\", \"data\": {\"outcomeType\": 1, \"valueTowardsCompletion\": 0.16666666666666666, \"interactionType\": 1, \"questionType\": 1, \"questionId\": \"1_ReviewsWritten\", \"learnToolsVersion\": \"0.3.4\", \"failureMessage\": \"\", \"exceptionClass\": \"\", \"trace\": \"\"}}, \"*\")"
      ],
      "text/plain": [
       "<IPython.core.display.Javascript object>"
      ]
     },
     "metadata": {},
     "output_type": "display_data"
    },
    {
     "data": {
      "text/markdown": [
       "<span style=\"color:#33cc33\">Correct:</span> \n",
       "\n",
       "\n",
       "```python\n",
       "reviews_written = reviews.groupby('taster_twitter_handle').size()\n",
       "```\n",
       "or\n",
       "```python\n",
       "reviews_written = reviews.groupby('taster_twitter_handle').taster_twitter_handle.count()\n",
       "```\n"
      ],
      "text/plain": [
       "Correct: \n",
       "\n",
       "\n",
       "```python\n",
       "reviews_written = reviews.groupby('taster_twitter_handle').size()\n",
       "```\n",
       "or\n",
       "```python\n",
       "reviews_written = reviews.groupby('taster_twitter_handle').taster_twitter_handle.count()\n",
       "```"
      ]
     },
     "metadata": {},
     "output_type": "display_data"
    }
   ],
   "source": [
    "# Your code here\n",
    "reviews_written = reviews.groupby('taster_twitter_handle').size()\n",
    "\n",
    "\n",
    "# Check your answer\n",
    "q1.check()"
   ]
  },
  {
   "cell_type": "code",
   "execution_count": 4,
   "id": "e135bf23",
   "metadata": {
    "execution": {
     "iopub.execute_input": "2021-12-27T16:12:00.694208Z",
     "iopub.status.busy": "2021-12-27T16:12:00.693448Z",
     "iopub.status.idle": "2021-12-27T16:12:00.696500Z",
     "shell.execute_reply": "2021-12-27T16:12:00.696993Z",
     "shell.execute_reply.started": "2021-12-27T15:42:14.657201Z"
    },
    "papermill": {
     "duration": 0.03601,
     "end_time": "2021-12-27T16:12:00.697148",
     "exception": false,
     "start_time": "2021-12-27T16:12:00.661138",
     "status": "completed"
    },
    "tags": []
   },
   "outputs": [
    {
     "data": {
      "text/plain": [
       "taster_twitter_handle\n",
       "@AnneInVino          3685\n",
       "@JoeCz               5147\n",
       "@bkfiona               27\n",
       "@gordone_cellars     4177\n",
       "@kerinokeefe        10776\n",
       "@laurbuzz            1835\n",
       "@mattkettmann        6332\n",
       "@paulgwine           9532\n",
       "@suskostrzewa        1085\n",
       "@vboone              9537\n",
       "@vossroger          25514\n",
       "@wawinereport        4966\n",
       "@wineschach         15134\n",
       "@winewchristina         6\n",
       "@worldwineguys       1005\n",
       "dtype: int64"
      ]
     },
     "execution_count": 4,
     "metadata": {},
     "output_type": "execute_result"
    }
   ],
   "source": [
    "reviews_written"
   ]
  },
  {
   "cell_type": "markdown",
   "id": "50636f76",
   "metadata": {
    "papermill": {
     "duration": 0.026142,
     "end_time": "2021-12-27T16:12:00.749908",
     "exception": false,
     "start_time": "2021-12-27T16:12:00.723766",
     "status": "completed"
    },
    "tags": []
   },
   "source": [
    "We can apply another formula which also works so right:\n",
    "\n",
    "reviews_written = reviews['taster_twitter_handle'].value_counts().sort_values(ascending = False)\n"
   ]
  },
  {
   "cell_type": "code",
   "execution_count": 5,
   "id": "3855a040",
   "metadata": {
    "execution": {
     "iopub.execute_input": "2021-12-27T16:12:00.824452Z",
     "iopub.status.busy": "2021-12-27T16:12:00.823410Z",
     "iopub.status.idle": "2021-12-27T16:12:00.826100Z",
     "shell.execute_reply": "2021-12-27T16:12:00.825583Z",
     "shell.execute_reply.started": "2021-12-27T15:41:06.947859Z"
    },
    "papermill": {
     "duration": 0.049919,
     "end_time": "2021-12-27T16:12:00.826244",
     "exception": false,
     "start_time": "2021-12-27T16:12:00.776325",
     "status": "completed"
    },
    "tags": []
   },
   "outputs": [],
   "source": [
    "#We can apply another formula which also works so right:\n",
    "\n",
    "reviews_written = reviews['taster_twitter_handle'].value_counts().sort_values(ascending = False)"
   ]
  },
  {
   "cell_type": "markdown",
   "id": "0bdb1e87",
   "metadata": {
    "papermill": {
     "duration": 0.026116,
     "end_time": "2021-12-27T16:12:00.878809",
     "exception": false,
     "start_time": "2021-12-27T16:12:00.852693",
     "status": "completed"
    },
    "tags": []
   },
   "source": []
  },
  {
   "cell_type": "code",
   "execution_count": 6,
   "id": "e84ca524",
   "metadata": {
    "execution": {
     "iopub.execute_input": "2021-12-27T16:12:00.938009Z",
     "iopub.status.busy": "2021-12-27T16:12:00.937246Z",
     "iopub.status.idle": "2021-12-27T16:12:00.939924Z",
     "shell.execute_reply": "2021-12-27T16:12:00.940399Z",
     "shell.execute_reply.started": "2021-12-27T15:30:12.910744Z"
    },
    "papermill": {
     "duration": 0.035269,
     "end_time": "2021-12-27T16:12:00.940571",
     "exception": false,
     "start_time": "2021-12-27T16:12:00.905302",
     "status": "completed"
    },
    "tags": []
   },
   "outputs": [
    {
     "data": {
      "text/plain": [
       "@vossroger          25514\n",
       "@wineschach         15134\n",
       "@kerinokeefe        10776\n",
       "@vboone              9537\n",
       "@paulgwine           9532\n",
       "@mattkettmann        6332\n",
       "@JoeCz               5147\n",
       "@wawinereport        4966\n",
       "@gordone_cellars     4177\n",
       "@AnneInVino          3685\n",
       "@laurbuzz            1835\n",
       "@suskostrzewa        1085\n",
       "@worldwineguys       1005\n",
       "@bkfiona               27\n",
       "@winewchristina         6\n",
       "Name: taster_twitter_handle, dtype: int64"
      ]
     },
     "execution_count": 6,
     "metadata": {},
     "output_type": "execute_result"
    }
   ],
   "source": [
    "reviews_written"
   ]
  },
  {
   "cell_type": "markdown",
   "id": "b0ebe917",
   "metadata": {
    "papermill": {
     "duration": 0.026599,
     "end_time": "2021-12-27T16:12:00.995180",
     "exception": false,
     "start_time": "2021-12-27T16:12:00.968581",
     "status": "completed"
    },
    "tags": []
   },
   "source": [
    "<b> Answer: </b> To answer precisely there are about 3 reviewers posting more than 10000 reviews."
   ]
  },
  {
   "cell_type": "code",
   "execution_count": 7,
   "id": "65fbc03f",
   "metadata": {
    "execution": {
     "iopub.execute_input": "2021-12-27T16:12:01.053024Z",
     "iopub.status.busy": "2021-12-27T16:12:01.052356Z",
     "iopub.status.idle": "2021-12-27T16:12:01.055341Z",
     "shell.execute_reply": "2021-12-27T16:12:01.055822Z",
     "shell.execute_reply.started": "2021-12-27T15:40:43.229842Z"
    },
    "papermill": {
     "duration": 0.033944,
     "end_time": "2021-12-27T16:12:01.056001",
     "exception": false,
     "start_time": "2021-12-27T16:12:01.022057",
     "status": "completed"
    },
    "tags": []
   },
   "outputs": [],
   "source": [
    "#q1.hint()\n",
    "#q1.solution()"
   ]
  },
  {
   "cell_type": "markdown",
   "id": "f9a64d98",
   "metadata": {
    "papermill": {
     "duration": 0.027018,
     "end_time": "2021-12-27T16:12:01.110074",
     "exception": false,
     "start_time": "2021-12-27T16:12:01.083056",
     "status": "completed"
    },
    "tags": []
   },
   "source": [
    "## 2.\n",
    "What is the best wine I can buy for a given amount of money? Create a `Series` whose index is wine prices and whose values is the maximum number of points a wine costing that much was given in a review. Sort the values by price, ascending (so that `4.0` dollars is at the top and `3300.0` dollars is at the bottom)."
   ]
  },
  {
   "cell_type": "code",
   "execution_count": 8,
   "id": "3a8cd23d",
   "metadata": {
    "execution": {
     "iopub.execute_input": "2021-12-27T16:12:01.169207Z",
     "iopub.status.busy": "2021-12-27T16:12:01.168630Z",
     "iopub.status.idle": "2021-12-27T16:12:01.176916Z",
     "shell.execute_reply": "2021-12-27T16:12:01.177403Z",
     "shell.execute_reply.started": "2021-12-27T15:53:34.799008Z"
    },
    "papermill": {
     "duration": 0.040399,
     "end_time": "2021-12-27T16:12:01.177554",
     "exception": false,
     "start_time": "2021-12-27T16:12:01.137155",
     "status": "completed"
    },
    "tags": []
   },
   "outputs": [
    {
     "data": {
      "application/javascript": [
       "parent.postMessage({\"jupyterEvent\": \"custom.exercise_interaction\", \"data\": {\"outcomeType\": 1, \"valueTowardsCompletion\": 0.16666666666666666, \"interactionType\": 1, \"questionType\": 1, \"questionId\": \"2_BestRatingPerPrice\", \"learnToolsVersion\": \"0.3.4\", \"failureMessage\": \"\", \"exceptionClass\": \"\", \"trace\": \"\"}}, \"*\")"
      ],
      "text/plain": [
       "<IPython.core.display.Javascript object>"
      ]
     },
     "metadata": {},
     "output_type": "display_data"
    },
    {
     "data": {
      "text/markdown": [
       "<span style=\"color:#33cc33\">Correct</span>"
      ],
      "text/plain": [
       "Correct"
      ]
     },
     "metadata": {},
     "output_type": "display_data"
    }
   ],
   "source": [
    "best_rating_per_price = reviews.groupby('price')['points'].max().sort_index()\n",
    "\n",
    "# Check your answer\n",
    "q2.check()"
   ]
  },
  {
   "cell_type": "code",
   "execution_count": 9,
   "id": "836b9f3e",
   "metadata": {
    "execution": {
     "iopub.execute_input": "2021-12-27T16:12:01.237879Z",
     "iopub.status.busy": "2021-12-27T16:12:01.237236Z",
     "iopub.status.idle": "2021-12-27T16:12:01.243255Z",
     "shell.execute_reply": "2021-12-27T16:12:01.243771Z",
     "shell.execute_reply.started": "2021-12-27T15:54:10.382444Z"
    },
    "papermill": {
     "duration": 0.037039,
     "end_time": "2021-12-27T16:12:01.243949",
     "exception": false,
     "start_time": "2021-12-27T16:12:01.206910",
     "status": "completed"
    },
    "tags": []
   },
   "outputs": [
    {
     "data": {
      "text/plain": [
       "price\n",
       "4.0       86\n",
       "5.0       87\n",
       "6.0       88\n",
       "7.0       91\n",
       "8.0       91\n",
       "          ..\n",
       "1900.0    98\n",
       "2000.0    97\n",
       "2013.0    91\n",
       "2500.0    96\n",
       "3300.0    88\n",
       "Name: points, Length: 390, dtype: int64"
      ]
     },
     "execution_count": 9,
     "metadata": {},
     "output_type": "execute_result"
    }
   ],
   "source": [
    "#Printing best_rating_per_price\n",
    "\n",
    "best_rating_per_price"
   ]
  },
  {
   "cell_type": "code",
   "execution_count": 10,
   "id": "4f637f38",
   "metadata": {
    "execution": {
     "iopub.execute_input": "2021-12-27T16:12:01.304655Z",
     "iopub.status.busy": "2021-12-27T16:12:01.303777Z",
     "iopub.status.idle": "2021-12-27T16:12:01.306058Z",
     "shell.execute_reply": "2021-12-27T16:12:01.306503Z",
     "shell.execute_reply.started": "2021-12-27T15:53:03.997548Z"
    },
    "papermill": {
     "duration": 0.034592,
     "end_time": "2021-12-27T16:12:01.306665",
     "exception": false,
     "start_time": "2021-12-27T16:12:01.272073",
     "status": "completed"
    },
    "tags": []
   },
   "outputs": [],
   "source": [
    "#q2.hint()\n",
    "#q2.solution()"
   ]
  },
  {
   "cell_type": "markdown",
   "id": "80bc4353",
   "metadata": {
    "papermill": {
     "duration": 0.028186,
     "end_time": "2021-12-27T16:12:01.362959",
     "exception": false,
     "start_time": "2021-12-27T16:12:01.334773",
     "status": "completed"
    },
    "tags": []
   },
   "source": [
    "## 3.\n",
    "What are the minimum and maximum prices for each `variety` of wine? Create a `DataFrame` whose index is the `variety` category from the dataset and whose values are the `min` and `max` values thereof."
   ]
  },
  {
   "cell_type": "code",
   "execution_count": 11,
   "id": "efa546cb",
   "metadata": {
    "execution": {
     "iopub.execute_input": "2021-12-27T16:12:01.441765Z",
     "iopub.status.busy": "2021-12-27T16:12:01.421997Z",
     "iopub.status.idle": "2021-12-27T16:12:01.451111Z",
     "shell.execute_reply": "2021-12-27T16:12:01.450617Z",
     "shell.execute_reply.started": "2021-12-27T15:59:00.109208Z"
    },
    "papermill": {
     "duration": 0.060177,
     "end_time": "2021-12-27T16:12:01.451250",
     "exception": false,
     "start_time": "2021-12-27T16:12:01.391073",
     "status": "completed"
    },
    "tags": []
   },
   "outputs": [
    {
     "data": {
      "application/javascript": [
       "parent.postMessage({\"jupyterEvent\": \"custom.exercise_interaction\", \"data\": {\"outcomeType\": 1, \"valueTowardsCompletion\": 0.16666666666666666, \"interactionType\": 1, \"questionType\": 1, \"questionId\": \"3_PriceExtremes\", \"learnToolsVersion\": \"0.3.4\", \"failureMessage\": \"\", \"exceptionClass\": \"\", \"trace\": \"\"}}, \"*\")"
      ],
      "text/plain": [
       "<IPython.core.display.Javascript object>"
      ]
     },
     "metadata": {},
     "output_type": "display_data"
    },
    {
     "data": {
      "text/markdown": [
       "<span style=\"color:#33cc33\">Correct</span>"
      ],
      "text/plain": [
       "Correct"
      ]
     },
     "metadata": {},
     "output_type": "display_data"
    }
   ],
   "source": [
    "price_extremes = reviews.groupby(['variety']).price.agg([min,max])\n",
    "\n",
    "# Check your answer\n",
    "q3.check()"
   ]
  },
  {
   "cell_type": "code",
   "execution_count": 12,
   "id": "bb4da843",
   "metadata": {
    "execution": {
     "iopub.execute_input": "2021-12-27T16:12:01.512544Z",
     "iopub.status.busy": "2021-12-27T16:12:01.511928Z",
     "iopub.status.idle": "2021-12-27T16:12:01.524501Z",
     "shell.execute_reply": "2021-12-27T16:12:01.523929Z",
     "shell.execute_reply.started": "2021-12-27T15:59:04.618189Z"
    },
    "papermill": {
     "duration": 0.04423,
     "end_time": "2021-12-27T16:12:01.524637",
     "exception": false,
     "start_time": "2021-12-27T16:12:01.480407",
     "status": "completed"
    },
    "tags": []
   },
   "outputs": [
    {
     "data": {
      "text/html": [
       "<div>\n",
       "<style scoped>\n",
       "    .dataframe tbody tr th:only-of-type {\n",
       "        vertical-align: middle;\n",
       "    }\n",
       "\n",
       "    .dataframe tbody tr th {\n",
       "        vertical-align: top;\n",
       "    }\n",
       "\n",
       "    .dataframe thead th {\n",
       "        text-align: right;\n",
       "    }\n",
       "</style>\n",
       "<table border=\"1\" class=\"dataframe\">\n",
       "  <thead>\n",
       "    <tr style=\"text-align: right;\">\n",
       "      <th></th>\n",
       "      <th>min</th>\n",
       "      <th>max</th>\n",
       "    </tr>\n",
       "    <tr>\n",
       "      <th>variety</th>\n",
       "      <th></th>\n",
       "      <th></th>\n",
       "    </tr>\n",
       "  </thead>\n",
       "  <tbody>\n",
       "    <tr>\n",
       "      <th>Abouriou</th>\n",
       "      <td>15.0</td>\n",
       "      <td>75.0</td>\n",
       "    </tr>\n",
       "    <tr>\n",
       "      <th>Agiorgitiko</th>\n",
       "      <td>10.0</td>\n",
       "      <td>66.0</td>\n",
       "    </tr>\n",
       "    <tr>\n",
       "      <th>Aglianico</th>\n",
       "      <td>6.0</td>\n",
       "      <td>180.0</td>\n",
       "    </tr>\n",
       "    <tr>\n",
       "      <th>Aidani</th>\n",
       "      <td>27.0</td>\n",
       "      <td>27.0</td>\n",
       "    </tr>\n",
       "    <tr>\n",
       "      <th>Airen</th>\n",
       "      <td>8.0</td>\n",
       "      <td>10.0</td>\n",
       "    </tr>\n",
       "    <tr>\n",
       "      <th>...</th>\n",
       "      <td>...</td>\n",
       "      <td>...</td>\n",
       "    </tr>\n",
       "    <tr>\n",
       "      <th>Zinfandel</th>\n",
       "      <td>5.0</td>\n",
       "      <td>100.0</td>\n",
       "    </tr>\n",
       "    <tr>\n",
       "      <th>Zlahtina</th>\n",
       "      <td>13.0</td>\n",
       "      <td>16.0</td>\n",
       "    </tr>\n",
       "    <tr>\n",
       "      <th>Zweigelt</th>\n",
       "      <td>9.0</td>\n",
       "      <td>70.0</td>\n",
       "    </tr>\n",
       "    <tr>\n",
       "      <th>Çalkarası</th>\n",
       "      <td>19.0</td>\n",
       "      <td>19.0</td>\n",
       "    </tr>\n",
       "    <tr>\n",
       "      <th>Žilavka</th>\n",
       "      <td>15.0</td>\n",
       "      <td>15.0</td>\n",
       "    </tr>\n",
       "  </tbody>\n",
       "</table>\n",
       "<p>707 rows × 2 columns</p>\n",
       "</div>"
      ],
      "text/plain": [
       "              min    max\n",
       "variety                 \n",
       "Abouriou     15.0   75.0\n",
       "Agiorgitiko  10.0   66.0\n",
       "Aglianico     6.0  180.0\n",
       "Aidani       27.0   27.0\n",
       "Airen         8.0   10.0\n",
       "...           ...    ...\n",
       "Zinfandel     5.0  100.0\n",
       "Zlahtina     13.0   16.0\n",
       "Zweigelt      9.0   70.0\n",
       "Çalkarası    19.0   19.0\n",
       "Žilavka      15.0   15.0\n",
       "\n",
       "[707 rows x 2 columns]"
      ]
     },
     "execution_count": 12,
     "metadata": {},
     "output_type": "execute_result"
    }
   ],
   "source": [
    "price_extremes"
   ]
  },
  {
   "cell_type": "code",
   "execution_count": 13,
   "id": "ff3e90c1",
   "metadata": {
    "execution": {
     "iopub.execute_input": "2021-12-27T16:12:01.588128Z",
     "iopub.status.busy": "2021-12-27T16:12:01.587467Z",
     "iopub.status.idle": "2021-12-27T16:12:01.589361Z",
     "shell.execute_reply": "2021-12-27T16:12:01.589768Z"
    },
    "papermill": {
     "duration": 0.035346,
     "end_time": "2021-12-27T16:12:01.589963",
     "exception": false,
     "start_time": "2021-12-27T16:12:01.554617",
     "status": "completed"
    },
    "tags": []
   },
   "outputs": [],
   "source": [
    "#q3.hint()\n",
    "#q3.solution()"
   ]
  },
  {
   "cell_type": "markdown",
   "id": "ae4e07ac",
   "metadata": {
    "papermill": {
     "duration": 0.02962,
     "end_time": "2021-12-27T16:12:01.649449",
     "exception": false,
     "start_time": "2021-12-27T16:12:01.619829",
     "status": "completed"
    },
    "tags": []
   },
   "source": [
    "## 4.\n",
    "What are the most expensive wine varieties? Create a variable `sorted_varieties` containing a copy of the dataframe from the previous question where varieties are sorted in descending order based on minimum price, then on maximum price (to break ties)."
   ]
  },
  {
   "cell_type": "code",
   "execution_count": 14,
   "id": "8c8b4e61",
   "metadata": {
    "execution": {
     "iopub.execute_input": "2021-12-27T16:12:01.712321Z",
     "iopub.status.busy": "2021-12-27T16:12:01.711660Z",
     "iopub.status.idle": "2021-12-27T16:12:01.720118Z",
     "shell.execute_reply": "2021-12-27T16:12:01.720622Z",
     "shell.execute_reply.started": "2021-12-27T16:01:43.537426Z"
    },
    "papermill": {
     "duration": 0.041489,
     "end_time": "2021-12-27T16:12:01.720783",
     "exception": false,
     "start_time": "2021-12-27T16:12:01.679294",
     "status": "completed"
    },
    "tags": []
   },
   "outputs": [
    {
     "data": {
      "application/javascript": [
       "parent.postMessage({\"jupyterEvent\": \"custom.exercise_interaction\", \"data\": {\"outcomeType\": 1, \"valueTowardsCompletion\": 0.16666666666666666, \"interactionType\": 1, \"questionType\": 1, \"questionId\": \"4_SortedVarieties\", \"learnToolsVersion\": \"0.3.4\", \"failureMessage\": \"\", \"exceptionClass\": \"\", \"trace\": \"\"}}, \"*\")"
      ],
      "text/plain": [
       "<IPython.core.display.Javascript object>"
      ]
     },
     "metadata": {},
     "output_type": "display_data"
    },
    {
     "data": {
      "text/markdown": [
       "<span style=\"color:#33cc33\">Correct</span>"
      ],
      "text/plain": [
       "Correct"
      ]
     },
     "metadata": {},
     "output_type": "display_data"
    }
   ],
   "source": [
    "sorted_varieties = price_extremes.sort_values(by= ['min','max'],ascending = False)\n",
    "\n",
    "# Check your answer\n",
    "q4.check()"
   ]
  },
  {
   "cell_type": "code",
   "execution_count": 15,
   "id": "74846130",
   "metadata": {
    "execution": {
     "iopub.execute_input": "2021-12-27T16:12:01.785509Z",
     "iopub.status.busy": "2021-12-27T16:12:01.784889Z",
     "iopub.status.idle": "2021-12-27T16:12:01.787294Z",
     "shell.execute_reply": "2021-12-27T16:12:01.787751Z"
    },
    "papermill": {
     "duration": 0.036339,
     "end_time": "2021-12-27T16:12:01.787922",
     "exception": false,
     "start_time": "2021-12-27T16:12:01.751583",
     "status": "completed"
    },
    "tags": []
   },
   "outputs": [],
   "source": [
    "#q4.hint()\n",
    "#q4.solution()"
   ]
  },
  {
   "cell_type": "markdown",
   "id": "1d6b3304",
   "metadata": {
    "papermill": {
     "duration": 0.030666,
     "end_time": "2021-12-27T16:12:01.849454",
     "exception": false,
     "start_time": "2021-12-27T16:12:01.818788",
     "status": "completed"
    },
    "tags": []
   },
   "source": [
    "## 5.\n",
    "Create a `Series` whose index is reviewers and whose values is the average review score given out by that reviewer. Hint: you will need the `taster_name` and `points` columns."
   ]
  },
  {
   "cell_type": "code",
   "execution_count": 16,
   "id": "eebc7b50",
   "metadata": {
    "execution": {
     "iopub.execute_input": "2021-12-27T16:12:01.916298Z",
     "iopub.status.busy": "2021-12-27T16:12:01.915661Z",
     "iopub.status.idle": "2021-12-27T16:12:01.939936Z",
     "shell.execute_reply": "2021-12-27T16:12:01.940421Z",
     "shell.execute_reply.started": "2021-12-27T16:07:50.760957Z"
    },
    "papermill": {
     "duration": 0.059325,
     "end_time": "2021-12-27T16:12:01.940604",
     "exception": false,
     "start_time": "2021-12-27T16:12:01.881279",
     "status": "completed"
    },
    "tags": []
   },
   "outputs": [
    {
     "data": {
      "application/javascript": [
       "parent.postMessage({\"jupyterEvent\": \"custom.exercise_interaction\", \"data\": {\"outcomeType\": 1, \"valueTowardsCompletion\": 0.16666666666666666, \"interactionType\": 1, \"questionType\": 1, \"questionId\": \"5_ReviewerMeanRatings\", \"learnToolsVersion\": \"0.3.4\", \"failureMessage\": \"\", \"exceptionClass\": \"\", \"trace\": \"\"}}, \"*\")"
      ],
      "text/plain": [
       "<IPython.core.display.Javascript object>"
      ]
     },
     "metadata": {},
     "output_type": "display_data"
    },
    {
     "data": {
      "text/markdown": [
       "<span style=\"color:#33cc33\">Correct</span>"
      ],
      "text/plain": [
       "Correct"
      ]
     },
     "metadata": {},
     "output_type": "display_data"
    }
   ],
   "source": [
    "reviewer_mean_ratings = reviews.groupby('taster_name').points.mean()\n",
    "\n",
    "# Check your answer\n",
    "q5.check()"
   ]
  },
  {
   "cell_type": "code",
   "execution_count": 17,
   "id": "9d02d857",
   "metadata": {
    "execution": {
     "iopub.execute_input": "2021-12-27T16:12:02.008122Z",
     "iopub.status.busy": "2021-12-27T16:12:02.007468Z",
     "iopub.status.idle": "2021-12-27T16:12:02.012969Z",
     "shell.execute_reply": "2021-12-27T16:12:02.013458Z",
     "shell.execute_reply.started": "2021-12-27T16:08:41.438509Z"
    },
    "papermill": {
     "duration": 0.041027,
     "end_time": "2021-12-27T16:12:02.013636",
     "exception": false,
     "start_time": "2021-12-27T16:12:01.972609",
     "status": "completed"
    },
    "tags": []
   },
   "outputs": [
    {
     "data": {
      "text/plain": [
       "taster_name\n",
       "Alexander Peartree    85.855422\n",
       "Anna Lee C. Iijima    88.415629\n",
       "Anne Krebiehl MW      90.562551\n",
       "Carrie Dykes          86.395683\n",
       "Christina Pickard     87.833333\n",
       "Fiona Adams           86.888889\n",
       "Jeff Jenssen          88.319756\n",
       "Jim Gordon            88.626287\n",
       "Joe Czerwinski        88.536235\n",
       "Kerin O’Keefe         88.867947\n",
       "Lauren Buzzeo         87.739510\n",
       "Matt Kettmann         90.008686\n",
       "Michael Schachner     86.907493\n",
       "Mike DeSimone         89.101167\n",
       "Paul Gregutt          89.082564\n",
       "Roger Voss            88.708003\n",
       "Sean P. Sullivan      88.755739\n",
       "Susan Kostrzewa       86.609217\n",
       "Virginie Boone        89.213379\n",
       "Name: points, dtype: float64"
      ]
     },
     "execution_count": 17,
     "metadata": {},
     "output_type": "execute_result"
    }
   ],
   "source": [
    "# printing out reviewer_mean_ratings\n",
    "\n",
    "reviewer_mean_ratings"
   ]
  },
  {
   "cell_type": "code",
   "execution_count": 18,
   "id": "0a204823",
   "metadata": {
    "execution": {
     "iopub.execute_input": "2021-12-27T16:12:02.082945Z",
     "iopub.status.busy": "2021-12-27T16:12:02.082338Z",
     "iopub.status.idle": "2021-12-27T16:12:02.084717Z",
     "shell.execute_reply": "2021-12-27T16:12:02.085244Z",
     "shell.execute_reply.started": "2021-12-27T16:07:48.384672Z"
    },
    "papermill": {
     "duration": 0.039198,
     "end_time": "2021-12-27T16:12:02.085411",
     "exception": false,
     "start_time": "2021-12-27T16:12:02.046213",
     "status": "completed"
    },
    "tags": []
   },
   "outputs": [],
   "source": [
    "#q5.hint()\n",
    "#q5.solution()"
   ]
  },
  {
   "cell_type": "markdown",
   "id": "8e758fb7",
   "metadata": {
    "papermill": {
     "duration": 0.032193,
     "end_time": "2021-12-27T16:12:02.150123",
     "exception": false,
     "start_time": "2021-12-27T16:12:02.117930",
     "status": "completed"
    },
    "tags": []
   },
   "source": [
    "Are there significant differences in the average scores assigned by the various reviewers? Run the cell below to use the `describe()` method to see a summary of the range of values."
   ]
  },
  {
   "cell_type": "code",
   "execution_count": 19,
   "id": "27359e44",
   "metadata": {
    "execution": {
     "iopub.execute_input": "2021-12-27T16:12:02.218444Z",
     "iopub.status.busy": "2021-12-27T16:12:02.217502Z",
     "iopub.status.idle": "2021-12-27T16:12:02.225919Z",
     "shell.execute_reply": "2021-12-27T16:12:02.226494Z",
     "shell.execute_reply.started": "2021-12-27T16:09:06.693544Z"
    },
    "papermill": {
     "duration": 0.044282,
     "end_time": "2021-12-27T16:12:02.226660",
     "exception": false,
     "start_time": "2021-12-27T16:12:02.182378",
     "status": "completed"
    },
    "tags": []
   },
   "outputs": [
    {
     "data": {
      "text/plain": [
       "count    19.000000\n",
       "mean     88.233026\n",
       "std       1.243610\n",
       "min      85.855422\n",
       "25%      87.323501\n",
       "50%      88.536235\n",
       "75%      88.975256\n",
       "max      90.562551\n",
       "Name: points, dtype: float64"
      ]
     },
     "execution_count": 19,
     "metadata": {},
     "output_type": "execute_result"
    }
   ],
   "source": [
    "reviewer_mean_ratings.describe()"
   ]
  },
  {
   "cell_type": "markdown",
   "id": "4d24e729",
   "metadata": {
    "papermill": {
     "duration": 0.032533,
     "end_time": "2021-12-27T16:12:02.291640",
     "exception": false,
     "start_time": "2021-12-27T16:12:02.259107",
     "status": "completed"
    },
    "tags": []
   },
   "source": [
    "<b>Answer: </b> No, not really. The reviewer_mean_ratings in total is 88.23 and if we observe the rating given by each reviewer then we can see that the reviews lies somewhere around 88. "
   ]
  },
  {
   "cell_type": "markdown",
   "id": "f8002844",
   "metadata": {
    "papermill": {
     "duration": 0.032157,
     "end_time": "2021-12-27T16:12:02.356205",
     "exception": false,
     "start_time": "2021-12-27T16:12:02.324048",
     "status": "completed"
    },
    "tags": []
   },
   "source": [
    "## 6.\n",
    "What combination of countries and varieties are most common? Create a `Series` whose index is a `MultiIndex`of `{country, variety}` pairs. For example, a pinot noir produced in the US should map to `{\"US\", \"Pinot Noir\"}`. Sort the values in the `Series` in descending order based on wine count."
   ]
  },
  {
   "cell_type": "code",
   "execution_count": 20,
   "id": "f9fb8b21",
   "metadata": {
    "execution": {
     "iopub.execute_input": "2021-12-27T16:12:02.425492Z",
     "iopub.status.busy": "2021-12-27T16:12:02.424813Z",
     "iopub.status.idle": "2021-12-27T16:12:02.486037Z",
     "shell.execute_reply": "2021-12-27T16:12:02.486548Z",
     "shell.execute_reply.started": "2021-12-27T16:05:27.945999Z"
    },
    "papermill": {
     "duration": 0.097747,
     "end_time": "2021-12-27T16:12:02.486718",
     "exception": false,
     "start_time": "2021-12-27T16:12:02.388971",
     "status": "completed"
    },
    "tags": []
   },
   "outputs": [
    {
     "data": {
      "application/javascript": [
       "parent.postMessage({\"jupyterEvent\": \"custom.exercise_interaction\", \"data\": {\"outcomeType\": 1, \"valueTowardsCompletion\": 0.16666666666666666, \"interactionType\": 1, \"questionType\": 1, \"questionId\": \"6_GroupbyCountryVariety\", \"learnToolsVersion\": \"0.3.4\", \"failureMessage\": \"\", \"exceptionClass\": \"\", \"trace\": \"\"}}, \"*\")"
      ],
      "text/plain": [
       "<IPython.core.display.Javascript object>"
      ]
     },
     "metadata": {},
     "output_type": "display_data"
    },
    {
     "data": {
      "text/markdown": [
       "<span style=\"color:#33cc33\">Correct</span>"
      ],
      "text/plain": [
       "Correct"
      ]
     },
     "metadata": {},
     "output_type": "display_data"
    }
   ],
   "source": [
    "country_variety_counts = reviews.groupby(['country','variety'])['variety'].agg(len).sort_values(ascending = False)\n",
    "\n",
    "# Check your answer\n",
    "q6.check()"
   ]
  },
  {
   "cell_type": "code",
   "execution_count": 21,
   "id": "9f8c1726",
   "metadata": {
    "execution": {
     "iopub.execute_input": "2021-12-27T16:12:02.558311Z",
     "iopub.status.busy": "2021-12-27T16:12:02.557636Z",
     "iopub.status.idle": "2021-12-27T16:12:02.559275Z",
     "shell.execute_reply": "2021-12-27T16:12:02.559737Z"
    },
    "papermill": {
     "duration": 0.039822,
     "end_time": "2021-12-27T16:12:02.559911",
     "exception": false,
     "start_time": "2021-12-27T16:12:02.520089",
     "status": "completed"
    },
    "tags": []
   },
   "outputs": [],
   "source": [
    "#q6.hint()\n",
    "#q6.solution()"
   ]
  },
  {
   "cell_type": "markdown",
   "id": "dbc1baa7",
   "metadata": {
    "papermill": {
     "duration": 0.034011,
     "end_time": "2021-12-27T16:12:02.627498",
     "exception": false,
     "start_time": "2021-12-27T16:12:02.593487",
     "status": "completed"
    },
    "tags": []
   },
   "source": [
    "# Keep going\n",
    "\n",
    "Move on to the [**data types and missing data**](https://www.kaggle.com/residentmario/data-types-and-missing-values)."
   ]
  },
  {
   "cell_type": "markdown",
   "id": "61d74bcd",
   "metadata": {
    "papermill": {
     "duration": 0.03339,
     "end_time": "2021-12-27T16:12:02.694436",
     "exception": false,
     "start_time": "2021-12-27T16:12:02.661046",
     "status": "completed"
    },
    "tags": []
   },
   "source": [
    "---\n",
    "\n",
    "\n",
    "\n",
    "\n",
    "*Have questions or comments? Visit the [course discussion forum](https://www.kaggle.com/learn/pandas/discussion) to chat with other learners.*"
   ]
  }
 ],
 "metadata": {
  "kernelspec": {
   "display_name": "Python 3",
   "language": "python",
   "name": "python3"
  },
  "language_info": {
   "codemirror_mode": {
    "name": "ipython",
    "version": 3
   },
   "file_extension": ".py",
   "mimetype": "text/x-python",
   "name": "python",
   "nbconvert_exporter": "python",
   "pygments_lexer": "ipython3",
   "version": "3.7.12"
  },
  "papermill": {
   "default_parameters": {},
   "duration": 15.930596,
   "end_time": "2021-12-27T16:12:03.338479",
   "environment_variables": {},
   "exception": null,
   "input_path": "__notebook__.ipynb",
   "output_path": "__notebook__.ipynb",
   "parameters": {},
   "start_time": "2021-12-27T16:11:47.407883",
   "version": "2.3.3"
  }
 },
 "nbformat": 4,
 "nbformat_minor": 5
}
